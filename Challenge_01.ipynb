{
  "nbformat": 4,
  "nbformat_minor": 0,
  "metadata": {
    "colab": {
      "name": "Challenge_01.ipynb",
      "provenance": [],
      "collapsed_sections": [],
      "authorship_tag": "ABX9TyMaxyxI/ph2Ka6Y/Yg4DVSb",
      "include_colab_link": true
    },
    "kernelspec": {
      "name": "python3",
      "display_name": "Python 3"
    },
    "language_info": {
      "name": "python"
    }
  },
  "cells": [
    {
      "cell_type": "markdown",
      "metadata": {
        "id": "view-in-github",
        "colab_type": "text"
      },
      "source": [
        "<a href=\"https://colab.research.google.com/github/marcosranes/Bootcamp_Python_Pro_Colab/blob/main/Challenge_01.ipynb\" target=\"_parent\"><img src=\"https://colab.research.google.com/assets/colab-badge.svg\" alt=\"Open In Colab\"/></a>"
      ]
    },
    {
      "cell_type": "markdown",
      "metadata": {
        "id": "HPI4GvVeQzB3"
      },
      "source": [
        "# [Estrutura de Repetição](https://wiki.python.org.br/EstruturaDeRepeticao)\n",
        "### 1. Faça um programa que peça uma nota, entre zero e dez. Mostre uma mensagem caso o valor seja inválido e continue pedindo até que o usuário informe um valor válido."
      ]
    },
    {
      "cell_type": "code",
      "metadata": {
        "colab": {
          "base_uri": "https://localhost:8080/",
          "height": 316
        },
        "id": "0QDzEFl8RLyx",
        "outputId": "763bbeea-2925-43e1-d281-1630652ab189"
      },
      "source": [
        "\"v.1\"\n",
        "x = 0\n",
        "while not x:\n",
        "    num = int(input('digite um valor entre 0 e 10: '))\n",
        "    if num >= 0 and num <=10:\n",
        "        break\n",
        "    print(f'Digite um valor valido entre 0 e 10!')\n",
        "print(f'{num} é um valor valido')"
      ],
      "execution_count": 27,
      "outputs": [
        {
          "output_type": "stream",
          "text": [
            "digite um valor entre 0 e 10: -1\n",
            "Digite um valor valido entre 0 e 10!\n",
            "digite um valor entre 0 e 10: 11\n",
            "Digite um valor valido entre 0 e 10!\n",
            "digite um valor entre 0 e 10: test\n"
          ],
          "name": "stdout"
        },
        {
          "output_type": "error",
          "ename": "ValueError",
          "evalue": "ignored",
          "traceback": [
            "\u001b[0;31m---------------------------------------------------------------------------\u001b[0m",
            "\u001b[0;31mValueError\u001b[0m                                Traceback (most recent call last)",
            "\u001b[0;32m<ipython-input-27-0f57f96b2b95>\u001b[0m in \u001b[0;36m<module>\u001b[0;34m()\u001b[0m\n\u001b[1;32m      2\u001b[0m \u001b[0mx\u001b[0m \u001b[0;34m=\u001b[0m \u001b[0;36m0\u001b[0m\u001b[0;34m\u001b[0m\u001b[0;34m\u001b[0m\u001b[0m\n\u001b[1;32m      3\u001b[0m \u001b[0;32mwhile\u001b[0m \u001b[0;32mnot\u001b[0m \u001b[0mx\u001b[0m\u001b[0;34m:\u001b[0m\u001b[0;34m\u001b[0m\u001b[0;34m\u001b[0m\u001b[0m\n\u001b[0;32m----> 4\u001b[0;31m     \u001b[0mnum\u001b[0m \u001b[0;34m=\u001b[0m \u001b[0mint\u001b[0m\u001b[0;34m(\u001b[0m\u001b[0minput\u001b[0m\u001b[0;34m(\u001b[0m\u001b[0;34m'digite um valor entre 0 e 10: '\u001b[0m\u001b[0;34m)\u001b[0m\u001b[0;34m)\u001b[0m\u001b[0;34m\u001b[0m\u001b[0;34m\u001b[0m\u001b[0m\n\u001b[0m\u001b[1;32m      5\u001b[0m     \u001b[0;32mif\u001b[0m \u001b[0mnum\u001b[0m \u001b[0;34m>=\u001b[0m \u001b[0;36m0\u001b[0m \u001b[0;32mand\u001b[0m \u001b[0mnum\u001b[0m \u001b[0;34m<=\u001b[0m\u001b[0;36m10\u001b[0m\u001b[0;34m:\u001b[0m\u001b[0;34m\u001b[0m\u001b[0;34m\u001b[0m\u001b[0m\n\u001b[1;32m      6\u001b[0m         \u001b[0;32mbreak\u001b[0m\u001b[0;34m\u001b[0m\u001b[0;34m\u001b[0m\u001b[0m\n",
            "\u001b[0;31mValueError\u001b[0m: invalid literal for int() with base 10: 'test'"
          ]
        }
      ]
    },
    {
      "cell_type": "code",
      "metadata": {
        "colab": {
          "base_uri": "https://localhost:8080/"
        },
        "id": "gdknj2xdnwDM",
        "outputId": "5f971742-832c-4f77-d0c7-d72d5995607f"
      },
      "source": [
        "\"v.2 - treating existing errors when typing with try/except/else\"\n",
        "\n",
        "while True:\n",
        "    try:\n",
        "        num = int(input('Type a number between 0 e 10: '))\n",
        "    except ValueError:\n",
        "        print(f'Unexpect value, impossible to continue!')\n",
        "        break  # breaks the program as soon as an exception is encountered, for ex. typing a string instead of a number.\n",
        "    else:\n",
        "        if 0 <= num <= 10:\n",
        "            print(f\"{num} is valid!\")\n",
        "            break\n",
        "        else:\n",
        "            print(f\"{num} isn't valid!\")\n"
      ],
      "execution_count": 28,
      "outputs": [
        {
          "output_type": "stream",
          "text": [
            "Type a number between 0 e 10: -1\n",
            "-1 isn't valid!\n",
            "Type a number between 0 e 10: 11\n",
            "11 isn't valid!\n",
            "Type a number between 0 e 10: test\n",
            "Unexpect value, impossible to continue!\n"
          ],
          "name": "stdout"
        }
      ]
    },
    {
      "cell_type": "code",
      "metadata": {
        "colab": {
          "base_uri": "https://localhost:8080/"
        },
        "id": "1fCHk_uOa7zY",
        "outputId": "47a6fe85-e3c5-4015-d1bd-55b045eed331"
      },
      "source": [
        "\"v.3 - treating existing errors when typing with try/except/else - without the break within the except \"\n",
        "\n",
        "while True:\n",
        "    try:\n",
        "        num = int(input('Type a number between 0 e 10: '))\n",
        "    except ValueError:\n",
        "        print(f'Unexpected value, strings are not allowed!')\n",
        "    else:\n",
        "        if 0 <= num <= 10:\n",
        "            print(f\"{num} is a valid number.\")\n",
        "            break\n",
        "        else:\n",
        "            print(f\"{num} isn't a valid number!\")\n"
      ],
      "execution_count": 29,
      "outputs": [
        {
          "output_type": "stream",
          "text": [
            "Type a number between 0 e 10: -1\n",
            "-1 isn't a valid number!\n",
            "Type a number between 0 e 10: 11\n",
            "11 isn't a valid number!\n",
            "Type a number between 0 e 10: test\n",
            "Unexpected value, strings are not allowed!\n",
            "Type a number between 0 e 10: 12\n",
            "12 isn't a valid number!\n",
            "Type a number between 0 e 10: 7\n",
            "7 is a valid number.\n"
          ],
          "name": "stdout"
        }
      ]
    },
    {
      "cell_type": "code",
      "metadata": {
        "colab": {
          "base_uri": "https://localhost:8080/"
        },
        "id": "LIZnIpBurZ5s",
        "outputId": "784be767-9222-4947-aa71-d19766f7ff97"
      },
      "source": [
        "counter = 0\n",
        "while True:\n",
        "    counter += 1\n",
        "    print(f'{counter}', end=' ')\n",
        "    if counter == 20:\n",
        "        break"
      ],
      "execution_count": 14,
      "outputs": [
        {
          "output_type": "stream",
          "text": [
            "1 2 3 4 5 6 7 8 9 10 11 12 13 14 15 16 17 18 19 20 "
          ],
          "name": "stdout"
        }
      ]
    },
    {
      "cell_type": "code",
      "metadata": {
        "colab": {
          "base_uri": "https://localhost:8080/"
        },
        "id": "6dYHXITviyZW",
        "outputId": "7e0da13e-9fb5-4a76-e60d-fe556dc851a0"
      },
      "source": [
        "list_counter = []\n",
        "counter = 0\n",
        "while True:\n",
        "    list_counter.append(counter)\n",
        "    counter += 1\n",
        "    if counter == 21:\n",
        "        break\n",
        "print(f'{list_counter}', end=' ')"
      ],
      "execution_count": 26,
      "outputs": [
        {
          "output_type": "stream",
          "text": [
            "[0, 1, 2, 3, 4, 5, 6, 7, 8, 9, 10, 11, 12, 13, 14, 15, 16, 17, 18, 19, 20] "
          ],
          "name": "stdout"
        }
      ]
    }
  ]
}