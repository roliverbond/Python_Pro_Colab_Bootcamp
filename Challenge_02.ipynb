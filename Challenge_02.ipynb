{
  "nbformat": 4,
  "nbformat_minor": 0,
  "metadata": {
    "colab": {
      "name": "Challenge_02.ipynb",
      "provenance": [],
      "collapsed_sections": [],
      "authorship_tag": "ABX9TyNGUEstmTnicz7m4gr09geg",
      "include_colab_link": true
    },
    "kernelspec": {
      "name": "python3",
      "display_name": "Python 3"
    },
    "language_info": {
      "name": "python"
    }
  },
  "cells": [
    {
      "cell_type": "markdown",
      "metadata": {
        "id": "view-in-github",
        "colab_type": "text"
      },
      "source": [
        "<a href=\"https://colab.research.google.com/github/marcosranes/Bootcamp_Python_Pro_Colab/blob/main/Challenge_02.ipynb\" target=\"_parent\"><img src=\"https://colab.research.google.com/assets/colab-badge.svg\" alt=\"Open In Colab\"/></a>"
      ]
    },
    {
      "cell_type": "markdown",
      "metadata": {
        "id": "FL4oh5GrZxn2"
      },
      "source": [
        "### 2. Faça um programa que leia um nome de usuário e a sua senha e não aceite a senha igual ao nome do usuário, mostrando uma mensagem de erro e voltando a pedir as informações."
      ]
    },
    {
      "cell_type": "code",
      "metadata": {
        "colab": {
          "base_uri": "https://localhost:8080/"
        },
        "id": "krSrmjMcZwnl",
        "outputId": "144afad9-69cd-4fe1-f9c4-eb2785bcff0b"
      },
      "source": [
        "login = {'username': '', 'password': ''}\n",
        "\n",
        "while login.get('username') == login.get('password'):\n",
        "    login['username'] = input('Username: ')\n",
        "    login['password'] = input('Password: ')\n",
        "    if login.get('username') != login.get('password'):\n",
        "        break\n",
        "    print('---------------------------------')\n",
        "    print('Error: These fields must be different!\\n')\n",
        "\n",
        "print('---------------------------------')\n",
        "print('Successfully registered user.')\n",
        "print(login)\n",
        "\n",
        "print('\\nPlease, enter your credentials below')\n",
        "print('---------------------------------')\n",
        "username = ''\n",
        "password = ''\n",
        "while username != login.get('username'):\n",
        "    username = input('Username: ')\n",
        "    if username == login.get('username'):\n",
        "        break\n",
        "    print('Unregistered user!\\n')\n",
        "\n",
        "while password != login.get('password'):\n",
        "    password = input('Password: ')\n",
        "    if password == login.get('password'):\n",
        "        break\n",
        "    print('Invalid password!')\n",
        "print(\"\\nSuccess! You've been logged in.\")\n"
      ],
      "execution_count": 1,
      "outputs": [
        {
          "output_type": "stream",
          "text": [
            "Username: dummy\n",
            "Password: dummy\n",
            "---------------------------------\n",
            "Error: These fields must be different!\n",
            "\n",
            "Username: dummy\n",
            "Password: 123456\n",
            "---------------------------------\n",
            "Successfully registered user.\n",
            "{'username': 'dummy', 'password': '123456'}\n",
            "\n",
            "Please, enter your credentials below\n",
            "---------------------------------\n",
            "Username: dummies\n",
            "Unregistered user!\n",
            "\n",
            "Username: dumm\n",
            "Unregistered user!\n",
            "\n",
            "Username: dummy\n",
            "Password: 1234\n",
            "Invalid password!\n",
            "Password: 12345\n",
            "Invalid password!\n",
            "Password: 123456\n",
            "\n",
            "Success! You've been logged in.\n"
          ],
          "name": "stdout"
        }
      ]
    }
  ]
}