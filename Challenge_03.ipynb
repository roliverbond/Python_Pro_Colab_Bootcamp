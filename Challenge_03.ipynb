{
  "nbformat": 4,
  "nbformat_minor": 0,
  "metadata": {
    "colab": {
      "name": "Challenge_03.ipynb",
      "provenance": [],
      "collapsed_sections": [],
      "authorship_tag": "ABX9TyMqxztheQnOthUlDPXWi5Eh",
      "include_colab_link": true
    },
    "kernelspec": {
      "display_name": "Python 3",
      "name": "python3"
    },
    "language_info": {
      "name": "python"
    }
  },
  "cells": [
    {
      "cell_type": "markdown",
      "metadata": {
        "id": "view-in-github",
        "colab_type": "text"
      },
      "source": [
        "<a href=\"https://colab.research.google.com/github/marcosranes/Bootcamp_Python_Pro_Colab/blob/main/Challenge_03.ipynb\" target=\"_parent\"><img src=\"https://colab.research.google.com/assets/colab-badge.svg\" alt=\"Open In Colab\"/></a>"
      ]
    },
    {
      "cell_type": "markdown",
      "metadata": {
        "id": "SDPRcckeqDSd"
      },
      "source": [
        "## [Estrutura de Repetição](https://wiki.python.org.br/EstruturaDeRepeticao)\n",
        "### 3. Faça um programa que leia e valide as seguintes informações:\n",
        "- Nome: maior que 3 caracteres;\n",
        "- Idade: entre 0 e 150;\n",
        "- Salário: maior que zero;\n",
        "- Sexo: 'f' ou 'm';\n",
        "- Estado Civil: 's', 'c', 'v', 'd';"
      ]
    },
    {
      "cell_type": "code",
      "metadata": {
        "colab": {
          "base_uri": "https://localhost:8080/"
        },
        "id": "XjHMxm6QqCrG",
        "outputId": "a7c55a26-dc65-49d0-a150-b02e49942f5b"
      },
      "source": [
        "subscription = {\n",
        "    'name': '',\n",
        "    'age': 0,\n",
        "    'income': 0,\n",
        "    'gender': '',\n",
        "    'marital status': ''\n",
        "}\n",
        "trigger1 = trigger2 = trigger3 = trigger4 = 0\n",
        "while True:\n",
        "    try:\n",
        "        subscription['name'] = input(f'NAME: ').replace(\" \", \"\").title()\n",
        "    except ValueError:\n",
        "        none  # There are no conditions of falling here!\n",
        "    else:\n",
        "        if subscription['name'] in '':\n",
        "                print(\"- unfilled fields need to be avoided!\")\n",
        "                trigger3 = 1  ###\n",
        "                trigger1 = trigger2 = 0  #  ##\n",
        "        elif subscription['name'].isnumeric():\n",
        "            if trigger1 == 1: #\n",
        "                print(\"- as well as the numbers also not!\")\n",
        "                trigger1 = 0  #\n",
        "            elif trigger3 == 1 or trigger4 == 1:  ###  ####\n",
        "                print(f\"- {'un' if trigger4 else ''}like numbers that should be void!\")  ###  ####\n",
        "                trigger3 = trigger4 = 0  ###  ####\n",
        "            else:\n",
        "                print(\"- numbers mustn't be a lot!\")\n",
        "                trigger2 = 1  ##\n",
        "        elif not subscription['name'].isalpha():\n",
        "            if trigger2 == 1:  ##\n",
        "                print(\"- as well as the alphanumerics also not!\")\n",
        "                trigger2 = 0  ##\n",
        "            elif trigger3 == 1 or trigger4 == 1: ###  ####\n",
        "                print(f\"- {'un' if trigger4 else ''}like alphanumerics that should be void!\")  ###  ####\n",
        "                trigger3 = trigger4 = 0  ###  ####\n",
        "            else:\n",
        "                print(\"- alphanumerics are not allowed!\")\n",
        "                trigger1 = 1  #\n",
        "        else:\n",
        "            if subscription['name'] > subscription['name'][:2]: # Ana case covered\n",
        "                print('-------------------------')\n",
        "                print(f'- so, to get out of here, validation has been your only one choice.')\n",
        "                print(f'-> validated name: {subscription.get(\"name\")}')\n",
        "                print('-------------------------')\n",
        "                break\n",
        "            else:\n",
        "                print(\"- chars should not be too short!\")\n",
        "                trigger4 = 1  ####\n",
        "                trigger1 = trigger2 = 0  #  ##\n",
        "while True:\n",
        "    try:\n",
        "        subscription['age'] = input('AGE [1 to 150]: ').strip()\n",
        "    except ValueError:\n",
        "        none  # There are no conditions of falling here!\n",
        "    else:\n",
        "        if not subscription['age'].isnumeric() and subscription['age'] != ' '.strip():\n",
        "            print('- only valid numbers are allowed!')\n",
        "        elif subscription['age'] in ' '.strip():\n",
        "            print(\"- field mustn't have to be void!\")\n",
        "        elif 1 <= int(subscription['age']) <= 150:\n",
        "            print('-> Validated')\n",
        "            print('-------------------------')\n",
        "            subscription['age'] = int(subscription['age'])\n",
        "            break\n",
        "        else:\n",
        "            print('- invalid age!')\n",
        "\n",
        "while True:\n",
        "    try:\n",
        "        subscription['income'] = float(input('INCOME: '))\n",
        "    except ValueError:\n",
        "        print('- field must have to be filled with a valid number!')  \n",
        "        # unlike here, when i'm casting from a string to float once I ask for a specific number!\n",
        "    else:\n",
        "        if subscription['income'] > 0:\n",
        "            print('-> Validated')\n",
        "            print('-------------------------')\n",
        "            break\n",
        "        else:\n",
        "            print('- invalid income!')\n",
        "\n",
        "while True:\n",
        "    try:\n",
        "        subscription['gender'] = input('GENDER: [M]ale, [F]emale or [U]ndefined ').title().strip()\n",
        "    except ValueError:\n",
        "        none  # There are no conditions of falling here!\n",
        "    else:\n",
        "        if subscription['gender'].isnumeric():\n",
        "            print(\"- numbers are not allowed!\")\n",
        "        elif subscription['gender'] in ' '.strip():\n",
        "            print(\"- field mustn't have to be void!\")\n",
        "        elif (subscription['gender'] in 'MFU' and subscription['gender'] != '') and not subscription['gender'].isnumeric():\n",
        "            print('-> Validated')\n",
        "            print('-------------------------')\n",
        "            break\n",
        "        else:\n",
        "            if len(subscription['gender']) == 1:\n",
        "                print(\"- typed char doesn't match!\")\n",
        "            else:\n",
        "                print('- name is too long!')\n",
        "          \n",
        "while True:\n",
        "    try:\n",
        "        # single, married, widowed or divorced\n",
        "        subscription['marital status'] = input('MARITAL STATUS: [S]ingle, [M]arried, [W]idowed or [D]ivorced ').title().strip()\n",
        "    except ValueError:\n",
        "        none  # There are no conditions of falling here!\n",
        "    else:\n",
        "        if subscription['marital status'].isnumeric():\n",
        "            print(\"- numbers are not allowed!\")\n",
        "        elif subscription['marital status'] in ' '.strip():\n",
        "            print(\"- field mustn't have to be void!\")\n",
        "        elif (subscription['marital status'] in 'SMWD' and subscription['marital status'] != ''):\n",
        "            print('-> Validated')\n",
        "            print('-------------------------')\n",
        "            break\n",
        "        else:\n",
        "            if len(subscription['marital status']) == 1:\n",
        "                print(\"- typed char doesn't match!\")\n",
        "            else:\n",
        "                print('- name is too long!')\n",
        "\n",
        "print(subscription)\n"
      ],
      "execution_count": 17,
      "outputs": [
        {
          "output_type": "stream",
          "text": [
            "NAME: \n",
            "- unfilled fields need to be avoided!\n",
            "NAME: ana12\n",
            "- like alphanumerics that should be void!\n",
            "NAME: 1111111\n",
            "- numbers mustn't be a lot!\n",
            "NAME: a\n",
            "- chars should not be too short!\n",
            "NAME: \n",
            "- unfilled fields need to be avoided!\n",
            "NAME: ana            123\n",
            "- unlike alphanumerics that should be void!\n",
            "NAME: 12\n",
            "- numbers mustn't be a lot!\n",
            "NAME: ana1\n",
            "- as well as the alphanumerics also not!\n",
            "NAME: ana1\n",
            "- alphanumerics are not allowed!\n",
            "NAME: 12\n",
            "- as well as the numbers also not!\n",
            "NAME: \n",
            "- unfilled fields need to be avoided!\n",
            "NAME: a               n    a\n",
            "-------------------------\n",
            "- so, to get out of here, validation has been your only one choice.\n",
            "-> validated name: Ana\n",
            "-------------------------\n",
            "AGE [1 to 150]: 59\n",
            "-> Validated\n",
            "-------------------------\n",
            "INCOME: 2325.55\n",
            "-> Validated\n",
            "-------------------------\n",
            "GENDER: [M]ale, [F]emale or [U]ndefined mfu\n",
            "- name is too long!\n",
            "GENDER: [M]ale, [F]emale or [U]ndefined g\n",
            "- typed char doesn't match!\n",
            "GENDER: [M]ale, [F]emale or [U]ndefined f\n",
            "-> Validated\n",
            "-------------------------\n",
            "MARITAL STATUS: [S]ingle, [M]arried, [W]idowed or [D]ivorced smwd\n",
            "- name is too long!\n",
            "MARITAL STATUS: [S]ingle, [M]arried, [W]idowed or [D]ivorced Married\n",
            "- name is too long!\n",
            "MARITAL STATUS: [S]ingle, [M]arried, [W]idowed or [D]ivorced m\n",
            "-> Validated\n",
            "-------------------------\n",
            "{'name': 'Ana', 'age': 59, 'income': 2325.55, 'gender': 'F', 'marital status': 'M'}\n"
          ],
          "name": "stdout"
        }
      ]
    },
    {
      "cell_type": "code",
      "metadata": {
        "colab": {
          "base_uri": "https://localhost:8080/"
        },
        "id": "wK5qbmj_ooLU",
        "outputId": "c80ab872-57d9-4baa-d4f2-89a0bd4248bc"
      },
      "source": [
        "txt = \"maria\"\n",
        "\n",
        "x = txt.isalpha()\n",
        "x1 = txt.isnumeric()\n",
        "\n",
        "print(x)\n",
        "print(x1)\n",
        "print(txt)\n"
      ],
      "execution_count": 15,
      "outputs": [
        {
          "output_type": "stream",
          "text": [
            "True\n",
            "False\n",
            "maria\n"
          ],
          "name": "stdout"
        }
      ]
    },
    {
      "cell_type": "code",
      "metadata": {
        "colab": {
          "base_uri": "https://localhost:8080/"
        },
        "id": "mxXDf7CaprAn",
        "outputId": "a08c83f8-39b4-477f-87f5-d25dce88e018"
      },
      "source": [
        "name = input('NAME: ').replace(\" \", \"\").title()\n",
        "\n",
        "#x = \" \".join(myTuple)\n",
        "\n",
        "print(name)\n"
      ],
      "execution_count": 14,
      "outputs": [
        {
          "output_type": "stream",
          "text": [
            "NAME: ma          ria                     na\n",
            "Mariana\n"
          ],
          "name": "stdout"
        }
      ]
    },
    {
      "cell_type": "code",
      "metadata": {
        "colab": {
          "base_uri": "https://localhost:8080/"
        },
        "id": "NSCoT3DOqdJi",
        "outputId": "2e646f0d-f311-461b-a76c-210228fcce1c"
      },
      "source": [
        "txt = \"123456\"\n",
        "txt2 = \"baba123456\"\n",
        "\n",
        "x = txt.isdigit()\n",
        "x2 = txt2.isdigit()\n",
        "\n",
        "print(x)\n",
        "print(x2)\n"
      ],
      "execution_count": 13,
      "outputs": [
        {
          "output_type": "stream",
          "text": [
            "True\n",
            "False\n"
          ],
          "name": "stdout"
        }
      ]
    },
    {
      "cell_type": "code",
      "metadata": {
        "colab": {
          "base_uri": "https://localhost:8080/"
        },
        "id": "5bVV5wojrS0L",
        "outputId": "b4e87610-0e08-41a7-cd61-7c6c4643dcd1"
      },
      "source": [
        "txt = \" \"\n",
        "\n",
        "x = txt.isspace()\n",
        "\n",
        "print(x)\n"
      ],
      "execution_count": 7,
      "outputs": [
        {
          "output_type": "stream",
          "text": [
            "True\n"
          ],
          "name": "stdout"
        }
      ]
    }
  ]
}