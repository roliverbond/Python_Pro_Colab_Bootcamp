{
  "nbformat": 4,
  "nbformat_minor": 0,
  "metadata": {
    "colab": {
      "name": "Challenge_04.ipynb",
      "provenance": [],
      "authorship_tag": "ABX9TyOXXyoIJSgCezB8qxfruL62",
      "include_colab_link": true
    },
    "kernelspec": {
      "name": "python3",
      "display_name": "Python 3"
    },
    "language_info": {
      "name": "python"
    }
  },
  "cells": [
    {
      "cell_type": "markdown",
      "metadata": {
        "id": "view-in-github",
        "colab_type": "text"
      },
      "source": [
        "<a href=\"https://colab.research.google.com/github/marcosranes/Bootcamp_Python_Pro_Colab/blob/main/Challenge_04.ipynb\" target=\"_parent\"><img src=\"https://colab.research.google.com/assets/colab-badge.svg\" alt=\"Open In Colab\"/></a>"
      ]
    },
    {
      "cell_type": "markdown",
      "metadata": {
        "id": "70-AJ5oE4gFI"
      },
      "source": [
        "### 4. Supondo que a população de um país A seja da ordem de 80000 habitantes com uma taxa anual de crescimento de 3% e que a população de B seja 200000 habitantes com uma taxa de crescimento de 1.5%. Faça um programa que calcule e escreva o número de anos necessários para que a população do país A ultrapasse ou iguale a população do país B, mantidas as taxas de crescimento."
      ]
    },
    {
      "cell_type": "code",
      "metadata": {
        "colab": {
          "base_uri": "https://localhost:8080/"
        },
        "id": "NrhGNo9V4k6m",
        "outputId": "acdcd613-f445-4b00-b7cf-9958b8e6b891"
      },
      "source": [
        "brazil = 80_000\n",
        "year_growing_tax_brazil = 3/100\n",
        "\n",
        "china = 200_000\n",
        "year_growing_tax_china = 1.5/100\n",
        "\n",
        "year_counter = 0\n",
        "print('Population')\n",
        "while brazil < china:\n",
        "    brazil = brazil + brazil * year_growing_tax_brazil\n",
        "    china = china + china * year_growing_tax_china\n",
        "    year_counter += 1\n",
        "print('.....................................................')\n",
        "print(f\"Brasilian: {round(brazil)}  X  Chinese: {round(china)} - afer {year_counter} years\")"
      ],
      "execution_count": 6,
      "outputs": [
        {
          "output_type": "stream",
          "text": [
            "Population\n",
            ".....................................................\n",
            "Brasilian: 515033  X  Chinese: 510964 - afer 63 years\n"
          ],
          "name": "stdout"
        }
      ]
    },
    {
      "cell_type": "code",
      "metadata": {
        "colab": {
          "base_uri": "https://localhost:8080/"
        },
        "id": "YzM4bYhLcLj8",
        "outputId": "7a003288-9aca-444f-f217-ebe086f7578c"
      },
      "source": [
        "brazil = 80_000\n",
        "year_growing_brazil = 1.03\n",
        "\n",
        "china = 200_000\n",
        "year_growing_china = 1.015\n",
        "\n",
        "year_counter = 0\n",
        "print('Population\\n')\n",
        "while brazil < china:\n",
        "    brazil *= year_growing_brazil\n",
        "    china *= year_growing_china\n",
        "    year_counter += 1\n",
        "    print(f\"Brasilian: {round(brazil)}  X  Chinese: {round(china)} - afer {year_counter} year{'s' if year_counter > 1 else ''}\")\n",
        "    print('.....................................................')"
      ],
      "execution_count": 7,
      "outputs": [
        {
          "output_type": "stream",
          "text": [
            "Population\n",
            "\n",
            "Brasilian: 82400  X  Chinese: 203000 - afer 1 year\n",
            ".....................................................\n",
            "Brasilian: 84872  X  Chinese: 206045 - afer 2 years\n",
            ".....................................................\n",
            "Brasilian: 87418  X  Chinese: 209136 - afer 3 years\n",
            ".....................................................\n",
            "Brasilian: 90041  X  Chinese: 212273 - afer 4 years\n",
            ".....................................................\n",
            "Brasilian: 92742  X  Chinese: 215457 - afer 5 years\n",
            ".....................................................\n",
            "Brasilian: 95524  X  Chinese: 218689 - afer 6 years\n",
            ".....................................................\n",
            "Brasilian: 98390  X  Chinese: 221969 - afer 7 years\n",
            ".....................................................\n",
            "Brasilian: 101342  X  Chinese: 225299 - afer 8 years\n",
            ".....................................................\n",
            "Brasilian: 104382  X  Chinese: 228678 - afer 9 years\n",
            ".....................................................\n",
            "Brasilian: 107513  X  Chinese: 232108 - afer 10 years\n",
            ".....................................................\n",
            "Brasilian: 110739  X  Chinese: 235590 - afer 11 years\n",
            ".....................................................\n",
            "Brasilian: 114061  X  Chinese: 239124 - afer 12 years\n",
            ".....................................................\n",
            "Brasilian: 117483  X  Chinese: 242710 - afer 13 years\n",
            ".....................................................\n",
            "Brasilian: 121007  X  Chinese: 246351 - afer 14 years\n",
            ".....................................................\n",
            "Brasilian: 124637  X  Chinese: 250046 - afer 15 years\n",
            ".....................................................\n",
            "Brasilian: 128377  X  Chinese: 253797 - afer 16 years\n",
            ".....................................................\n",
            "Brasilian: 132228  X  Chinese: 257604 - afer 17 years\n",
            ".....................................................\n",
            "Brasilian: 136195  X  Chinese: 261468 - afer 18 years\n",
            ".....................................................\n",
            "Brasilian: 140280  X  Chinese: 265390 - afer 19 years\n",
            ".....................................................\n",
            "Brasilian: 144489  X  Chinese: 269371 - afer 20 years\n",
            ".....................................................\n",
            "Brasilian: 148824  X  Chinese: 273412 - afer 21 years\n",
            ".....................................................\n",
            "Brasilian: 153288  X  Chinese: 277513 - afer 22 years\n",
            ".....................................................\n",
            "Brasilian: 157887  X  Chinese: 281675 - afer 23 years\n",
            ".....................................................\n",
            "Brasilian: 162624  X  Chinese: 285901 - afer 24 years\n",
            ".....................................................\n",
            "Brasilian: 167502  X  Chinese: 290189 - afer 25 years\n",
            ".....................................................\n",
            "Brasilian: 172527  X  Chinese: 294542 - afer 26 years\n",
            ".....................................................\n",
            "Brasilian: 177703  X  Chinese: 298960 - afer 27 years\n",
            ".....................................................\n",
            "Brasilian: 183034  X  Chinese: 303444 - afer 28 years\n",
            ".....................................................\n",
            "Brasilian: 188525  X  Chinese: 307996 - afer 29 years\n",
            ".....................................................\n",
            "Brasilian: 194181  X  Chinese: 312616 - afer 30 years\n",
            ".....................................................\n",
            "Brasilian: 200006  X  Chinese: 317305 - afer 31 years\n",
            ".....................................................\n",
            "Brasilian: 206007  X  Chinese: 322065 - afer 32 years\n",
            ".....................................................\n",
            "Brasilian: 212187  X  Chinese: 326896 - afer 33 years\n",
            ".....................................................\n",
            "Brasilian: 218552  X  Chinese: 331799 - afer 34 years\n",
            ".....................................................\n",
            "Brasilian: 225109  X  Chinese: 336776 - afer 35 years\n",
            ".....................................................\n",
            "Brasilian: 231862  X  Chinese: 341828 - afer 36 years\n",
            ".....................................................\n",
            "Brasilian: 238818  X  Chinese: 346955 - afer 37 years\n",
            ".....................................................\n",
            "Brasilian: 245983  X  Chinese: 352160 - afer 38 years\n",
            ".....................................................\n",
            "Brasilian: 253362  X  Chinese: 357442 - afer 39 years\n",
            ".....................................................\n",
            "Brasilian: 260963  X  Chinese: 362804 - afer 40 years\n",
            ".....................................................\n",
            "Brasilian: 268792  X  Chinese: 368246 - afer 41 years\n",
            ".....................................................\n",
            "Brasilian: 276856  X  Chinese: 373769 - afer 42 years\n",
            ".....................................................\n",
            "Brasilian: 285161  X  Chinese: 379376 - afer 43 years\n",
            ".....................................................\n",
            "Brasilian: 293716  X  Chinese: 385067 - afer 44 years\n",
            ".....................................................\n",
            "Brasilian: 302528  X  Chinese: 390843 - afer 45 years\n",
            ".....................................................\n",
            "Brasilian: 311603  X  Chinese: 396705 - afer 46 years\n",
            ".....................................................\n",
            "Brasilian: 320952  X  Chinese: 402656 - afer 47 years\n",
            ".....................................................\n",
            "Brasilian: 330580  X  Chinese: 408696 - afer 48 years\n",
            ".....................................................\n",
            "Brasilian: 340498  X  Chinese: 414826 - afer 49 years\n",
            ".....................................................\n",
            "Brasilian: 350712  X  Chinese: 421048 - afer 50 years\n",
            ".....................................................\n",
            "Brasilian: 361234  X  Chinese: 427364 - afer 51 years\n",
            ".....................................................\n",
            "Brasilian: 372071  X  Chinese: 433775 - afer 52 years\n",
            ".....................................................\n",
            "Brasilian: 383233  X  Chinese: 440281 - afer 53 years\n",
            ".....................................................\n",
            "Brasilian: 394730  X  Chinese: 446886 - afer 54 years\n",
            ".....................................................\n",
            "Brasilian: 406572  X  Chinese: 453589 - afer 55 years\n",
            ".....................................................\n",
            "Brasilian: 418769  X  Chinese: 460393 - afer 56 years\n",
            ".....................................................\n",
            "Brasilian: 431332  X  Chinese: 467299 - afer 57 years\n",
            ".....................................................\n",
            "Brasilian: 444272  X  Chinese: 474308 - afer 58 years\n",
            ".....................................................\n",
            "Brasilian: 457600  X  Chinese: 481423 - afer 59 years\n",
            ".....................................................\n",
            "Brasilian: 471328  X  Chinese: 488644 - afer 60 years\n",
            ".....................................................\n",
            "Brasilian: 485468  X  Chinese: 495974 - afer 61 years\n",
            ".....................................................\n",
            "Brasilian: 500032  X  Chinese: 503413 - afer 62 years\n",
            ".....................................................\n",
            "Brasilian: 515033  X  Chinese: 510964 - afer 63 years\n",
            ".....................................................\n"
          ],
          "name": "stdout"
        }
      ]
    }
  ]
}