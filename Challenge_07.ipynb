{
  "nbformat": 4,
  "nbformat_minor": 0,
  "metadata": {
    "colab": {
      "name": "Challenge_07.ipynb",
      "provenance": [],
      "collapsed_sections": [],
      "authorship_tag": "ABX9TyPeR3/YPVlRNZ70/k4buVpw",
      "include_colab_link": true
    },
    "kernelspec": {
      "name": "python3",
      "display_name": "Python 3"
    },
    "language_info": {
      "name": "python"
    }
  },
  "cells": [
    {
      "cell_type": "markdown",
      "metadata": {
        "id": "view-in-github",
        "colab_type": "text"
      },
      "source": [
        "<a href=\"https://colab.research.google.com/github/marcosranes/Bootcamp_Python_Pro_Colab/blob/main/Challenge_07.ipynb\" target=\"_parent\"><img src=\"https://colab.research.google.com/assets/colab-badge.svg\" alt=\"Open In Colab\"/></a>"
      ]
    },
    {
      "cell_type": "markdown",
      "metadata": {
        "id": "lNs6IO0H5E-z"
      },
      "source": [
        "### 7. Faça um programa que leia 5 números e informe o maior número."
      ]
    },
    {
      "cell_type": "code",
      "metadata": {
        "colab": {
          "base_uri": "https://localhost:8080/"
        },
        "id": "dtRZI4AH5IaB",
        "outputId": "7fb8bc37-6283-49ee-d9f2-49c0da629024"
      },
      "source": [
        "max_number = 0\n",
        "char = ''\n",
        "for c in range(1, 6):\n",
        "    if c == 1: char = 'st'\n",
        "    if c == 2: char = 'nd'\n",
        "    if c == 3: char = 'rd'\n",
        "    number = int(input(f'Type the {c}{char} number: '))\n",
        "    char = 'th'\n",
        "\n",
        "    def printf(string1: str, string2: str, string3: str) -> str:\n",
        "        if number > max_number:\n",
        "            return string1\n",
        "        elif number < max_number:\n",
        "            return string2\n",
        "        return string3\n",
        "    \n",
        "    if c == 1:\n",
        "        print(f\"{number} is the greater number typed, until then.\")\n",
        "    else:\n",
        "        print(f\"{number}{printf(' is greater than ', ' is less than ', ' is equal to ')}{max_number}\")\n",
        "        if max_number < number:\n",
        "            print(f\"now the number {number} is the greater number typed.\")\n",
        "        else:\n",
        "            print(f\"So, number {max_number} remains the max number typed.\")\n",
        "\n",
        "    max_number = max(number, max_number)\n",
        "    print('---------------------------------------------')\n",
        "\n",
        "print(f'Max Number: {max_number}')\n"
      ],
      "execution_count": 9,
      "outputs": [
        {
          "output_type": "stream",
          "text": [
            "Type the 1st number: 8\n",
            "8 is the greater number typed, until then.\n",
            "---------------------------------------------\n",
            "Type the 2nd number: 2\n",
            "2 is less than 8\n",
            "So, number 8 remains the max number typed.\n",
            "---------------------------------------------\n",
            "Type the 3rd number: 8\n",
            "8 is equal to 8\n",
            "So, number 8 remains the max number typed.\n",
            "---------------------------------------------\n",
            "Type the 4th number: 9\n",
            "9 is greater than 8\n",
            "now the number 9 is the greater number typed.\n",
            "---------------------------------------------\n",
            "Type the 5th number: 7\n",
            "7 is less than 9\n",
            "So, number 9 remains the max number typed.\n",
            "---------------------------------------------\n",
            "Max Number: 9\n"
          ],
          "name": "stdout"
        }
      ]
    },
    {
      "cell_type": "code",
      "metadata": {
        "colab": {
          "base_uri": "https://localhost:8080/"
        },
        "id": "j9MBXrW9sQfi",
        "outputId": "16cb710f-6f9c-4b05-e38c-c18499eba26d"
      },
      "source": [
        "maximum = 0\n",
        "list_of_numbers = []\n",
        "string = ''\n",
        "for c in range(1, 6):\n",
        "    if c == 1: string = 'st'\n",
        "    if c == 2: string = 'nd'\n",
        "    if c == 3: string = 'rd'\n",
        "    number = int(input(f'Type the {c}{string} number: '))\n",
        "    string = 'th'\n",
        "\n",
        "    counter = 0\n",
        "    list_of_numbers.append(number)\n",
        "    for numbers in list_of_numbers:\n",
        "        maximum = max(numbers, maximum)\n",
        "\n",
        "print(f'Maximum: {maximum}')\n"
      ],
      "execution_count": 4,
      "outputs": [
        {
          "output_type": "stream",
          "text": [
            "Type the 1st number: 6\n",
            "Type the 2nd number: 11\n",
            "Type the 3rd number: 1\n",
            "Type the 4th number: 5\n",
            "Type the 5th number: 9\n",
            "Maximum: 11\n"
          ],
          "name": "stdout"
        }
      ]
    },
    {
      "cell_type": "code",
      "metadata": {
        "colab": {
          "base_uri": "https://localhost:8080/"
        },
        "id": "YBviK_4C0qOi",
        "outputId": "28da5523-5f5f-4562-9e62-8da9e844ca4e"
      },
      "source": [
        "list_of_numbers = []\n",
        "string = ''\n",
        "for c in range(1, 6):\n",
        "    if c == 1: string = 'st'\n",
        "    if c == 2: string = 'nd'\n",
        "    if c == 3: string = 'rd'\n",
        "    number = int(input(f'Type the {c}{string} number: '))\n",
        "    string = 'th'\n",
        "    list_of_numbers.append(number)\n",
        "\n",
        "print(f'Max Number: {max(list_of_numbers)}')\n",
        "print(f'Min Number: {min(list_of_numbers)}')\n"
      ],
      "execution_count": 5,
      "outputs": [
        {
          "output_type": "stream",
          "text": [
            "Type the 1st number: 5\n",
            "Type the 2nd number: 9\n",
            "Type the 3rd number: 11\n",
            "Type the 4th number: 6\n",
            "Type the 5th number: 13\n",
            "Max Number: 13\n",
            "Min Number: 5\n"
          ],
          "name": "stdout"
        }
      ]
    }
  ]
}