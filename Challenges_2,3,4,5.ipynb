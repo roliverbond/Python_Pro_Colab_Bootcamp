{
  "nbformat": 4,
  "nbformat_minor": 0,
  "metadata": {
    "colab": {
      "name": "Challenges_2,3,4,5.ipynb",
      "provenance": [],
      "authorship_tag": "ABX9TyNnJPh/dsA09DrvsJgwaV1i",
      "include_colab_link": true
    },
    "kernelspec": {
      "name": "python3",
      "display_name": "Python 3"
    },
    "language_info": {
      "name": "python"
    }
  },
  "cells": [
    {
      "cell_type": "markdown",
      "metadata": {
        "id": "view-in-github",
        "colab_type": "text"
      },
      "source": [
        "<a href=\"https://colab.research.google.com/github/marcosranes/Bootcamp_Python_Pro_Colab/blob/main/Challenges_2%2C3%2C4%2C5.ipynb\" target=\"_parent\"><img src=\"https://colab.research.google.com/assets/colab-badge.svg\" alt=\"Open In Colab\"/></a>"
      ]
    },
    {
      "cell_type": "markdown",
      "metadata": {
        "id": "EiT4yT5IBXKS"
      },
      "source": [
        "[ExerciciosComStrings](https://wiki.python.org.br/ExerciciosComStrings)\n",
        "- Nome ao contrário em maiúsculas.\\\n",
        "Faça um programa que permita ao usuário digitar o seu nome e em seguida mostre o nome do usuário de trás para frente utilizando somente letras maiúsculas. Dica: lembre−se que ao informar o nome o usuário pode digitar letras maiúsculas ou minúsculas.\n",
        "\n",
        "- Nome na vertical.\\\n",
        "Faça um programa que solicite o nome do usuário e imprima-o na vertical.\n",
        "\n",
        "- Nome na vertical em escada.\\\n",
        "Modifique o programa anterior de forma a mostrar o nome em formato de escada.\n",
        "\n",
        "- Nome na vertical em escada invertida.\\\n",
        "Altere o programa anterior de modo que a escada seja invertida."
      ]
    },
    {
      "cell_type": "code",
      "metadata": {
        "id": "XAe7ktVbgduY"
      },
      "source": [
        "def inverse(value: str) -> str:\n",
        "    value = \"\".join(list(value[::-1].upper()))\n",
        "    return value"
      ],
      "execution_count": 1,
      "outputs": []
    },
    {
      "cell_type": "code",
      "metadata": {
        "colab": {
          "base_uri": "https://localhost:8080/"
        },
        "id": "B4SBsjgBioch",
        "outputId": "1bf515fd-000b-4cd6-ee64-26d7e7827f26"
      },
      "source": [
        "word = input(f'Type a chain of characters you wish: ')"
      ],
      "execution_count": 2,
      "outputs": [
        {
          "output_type": "stream",
          "text": [
            "Type a chain of characters you wish: pope johannes paulus secundus\n"
          ],
          "name": "stdout"
        }
      ]
    },
    {
      "cell_type": "code",
      "metadata": {
        "colab": {
          "base_uri": "https://localhost:8080/"
        },
        "id": "ipG5z_e4DE8d",
        "outputId": "f639505d-1330-468e-8333-ebe29d2a55db"
      },
      "source": [
        "print(f'Name in reversed direction by chars.:')\n",
        "print(inverse(word))"
      ],
      "execution_count": 17,
      "outputs": [
        {
          "output_type": "stream",
          "text": [
            "Name in reversed direction by chars.:\n",
            "SUDNUCES SULUAP SENNAHOJ EPOP\n"
          ],
          "name": "stdout"
        }
      ]
    },
    {
      "cell_type": "code",
      "metadata": {
        "colab": {
          "base_uri": "https://localhost:8080/"
        },
        "id": "T2UwAuLyDkI3",
        "outputId": "1a5b2b32-d900-4ba8-d0d0-87490fb1c911"
      },
      "source": [
        "'- v.1'\n",
        "print(f'Name in reversed direction by chunks of words:')\n",
        "normal_direction = inverse(word)[::-1].split()  # reversing the inverse function with [::-1] and spliting[] to word chunks\n",
        "normal_direction.reverse()  # now, reversing the list\n",
        "print(' '.join(normal_direction))"
      ],
      "execution_count": 18,
      "outputs": [
        {
          "output_type": "stream",
          "text": [
            "Name in reversed direction by chunks of words:\n",
            "SECUNDUS PAULUS JOHANNES POPE\n"
          ],
          "name": "stdout"
        }
      ]
    },
    {
      "cell_type": "code",
      "metadata": {
        "colab": {
          "base_uri": "https://localhost:8080/"
        },
        "id": "rJyI7-fILlb1",
        "outputId": "55a30c5d-e09f-4e49-8ab7-85cda5bc1c2c"
      },
      "source": [
        "'- v.2'\n",
        "print(f'Name in reversed direction by chunks of words:')\n",
        "normal_direction1 = list(reversed(word.upper().split()))  # grabing data from the input variable 'word'\n",
        "print(f\"{' '.join(normal_direction1)}\")  # now, reversing the list"
      ],
      "execution_count": 19,
      "outputs": [
        {
          "output_type": "stream",
          "text": [
            "Name in reversed direction by chunks of words:\n",
            "SECUNDUS PAULUS JOHANNES POPE\n"
          ],
          "name": "stdout"
        }
      ]
    },
    {
      "cell_type": "code",
      "metadata": {
        "colab": {
          "base_uri": "https://localhost:8080/"
        },
        "id": "lxybKvFwmMyp",
        "outputId": "24c17023-4602-4ba9-dcce-f70cf9209b31"
      },
      "source": [
        "'- v.1'\n",
        "print(f'Name in a vertical direction with the loop for iterator:')\n",
        "for line in range(len(word)):\n",
        "    print(word[line].upper())"
      ],
      "execution_count": 20,
      "outputs": [
        {
          "output_type": "stream",
          "text": [
            "Name in a vertical direction with the loop for iterator:\n",
            "P\n",
            "O\n",
            "P\n",
            "E\n",
            " \n",
            "J\n",
            "O\n",
            "H\n",
            "A\n",
            "N\n",
            "N\n",
            "E\n",
            "S\n",
            " \n",
            "P\n",
            "A\n",
            "U\n",
            "L\n",
            "U\n",
            "S\n",
            " \n",
            "S\n",
            "E\n",
            "C\n",
            "U\n",
            "N\n",
            "D\n",
            "U\n",
            "S\n"
          ],
          "name": "stdout"
        }
      ]
    },
    {
      "cell_type": "code",
      "metadata": {
        "colab": {
          "base_uri": "https://localhost:8080/"
        },
        "id": "ufWV5VgVwVln",
        "outputId": "4f2205be-ef05-4f31-8d67-6e2875d6b14f"
      },
      "source": [
        "'- v.2'\n",
        "print(f'Name in a vertical direction with join() method:')\n",
        "print('\\n'.join(word.upper()))"
      ],
      "execution_count": 21,
      "outputs": [
        {
          "output_type": "stream",
          "text": [
            "Name in a vertical direction with join() method:\n",
            "P\n",
            "O\n",
            "P\n",
            "E\n",
            " \n",
            "J\n",
            "O\n",
            "H\n",
            "A\n",
            "N\n",
            "N\n",
            "E\n",
            "S\n",
            " \n",
            "P\n",
            "A\n",
            "U\n",
            "L\n",
            "U\n",
            "S\n",
            " \n",
            "S\n",
            "E\n",
            "C\n",
            "U\n",
            "N\n",
            "D\n",
            "U\n",
            "S\n"
          ],
          "name": "stdout"
        }
      ]
    },
    {
      "cell_type": "code",
      "metadata": {
        "colab": {
          "base_uri": "https://localhost:8080/"
        },
        "id": "Hvzovy116yYy",
        "outputId": "802720d7-b492-42bc-c89a-7dbda9c51313"
      },
      "source": [
        "'- v.2.1: if you want that inversed, just adding [::-1] at the end of this code line'\n",
        "print(f'Name in a vertical, reversed direction with join() method:')\n",
        "print('\\n'.join(word.upper())[::-1])"
      ],
      "execution_count": 22,
      "outputs": [
        {
          "output_type": "stream",
          "text": [
            "Name in a vertical, reversed direction with join() method:\n",
            "S\n",
            "U\n",
            "D\n",
            "N\n",
            "U\n",
            "C\n",
            "E\n",
            "S\n",
            " \n",
            "S\n",
            "U\n",
            "L\n",
            "U\n",
            "A\n",
            "P\n",
            " \n",
            "S\n",
            "E\n",
            "N\n",
            "N\n",
            "A\n",
            "H\n",
            "O\n",
            "J\n",
            " \n",
            "E\n",
            "P\n",
            "O\n",
            "P\n"
          ],
          "name": "stdout"
        }
      ]
    },
    {
      "cell_type": "code",
      "metadata": {
        "colab": {
          "base_uri": "https://localhost:8080/"
        },
        "id": "lGPoYkkr8jpy",
        "outputId": "710cc3b3-3475-4e6f-e725-0ecb41a13a9e"
      },
      "source": [
        "'if you want to know how much of a certain string, then just show that length'\n",
        "print(f\"Print how much of existing 'a' char within the word(s), and show it/them as UPPER CASE:\")\n",
        "aas = list(aas for aas in word if 'a' in aas) \n",
        "\"or this way:\"\n",
        "# aas = [aas for aas in word if 'a' in aas]\n",
        "\"both mean the same ('list' or simply '[]')\"\n",
        "\n",
        "print(f'- {len(aas)} - of the specific char has/have been found.', end=' ')\n",
        "print(aas)\n",
        "\"Changing encountered results and changing to UPPER\"\n",
        "\"if you try this way: print(aas.upper()), the following error will be displayed for you:\"\n",
        "\"AttributeError: 'list' object has no attribute 'upper'\"\n",
        "\"Error explanation:\"\n",
        "\"Unlike string type, list doesn't support the upper() attribute, once lists need to be firstly unwrapped with an iterator.\"\n",
        "\"So, 'list comprehension' helps a lot in reaching the desired results in just one code line.\"\n",
        "print([upper_a.upper() for upper_a in aas])\n",
        "\"or\"\n",
        "print(list(upper_a.upper() for upper_a in aas))\n",
        "\"furthermore, if you want that within a tuple, just make 'tuple()' on it:\"\n",
        "print(tuple(upper_a.upper() for upper_a in aas))\n"
      ],
      "execution_count": 23,
      "outputs": [
        {
          "output_type": "stream",
          "text": [
            "Print how much of existing 'a' char within the word(s), and show it/them as UPPER CASE:\n",
            "- 2 - of the specific char has/have been found. ['a', 'a']\n",
            "['A', 'A']\n",
            "['A', 'A']\n",
            "('A', 'A')\n"
          ],
          "name": "stdout"
        }
      ]
    },
    {
      "cell_type": "code",
      "metadata": {
        "colab": {
          "base_uri": "https://localhost:8080/",
          "height": 35
        },
        "id": "2SpzREKYcZ2m",
        "outputId": "8b89430f-4620-44be-e1fa-a492fef12271"
      },
      "source": [
        "word"
      ],
      "execution_count": 24,
      "outputs": [
        {
          "output_type": "execute_result",
          "data": {
            "application/vnd.google.colaboratory.intrinsic+json": {
              "type": "string"
            },
            "text/plain": [
              "'pope johannes paulus secundus'"
            ]
          },
          "metadata": {},
          "execution_count": 24
        }
      ]
    },
    {
      "cell_type": "code",
      "metadata": {
        "colab": {
          "base_uri": "https://localhost:8080/"
        },
        "id": "0SthDhSl0o-l",
        "outputId": "f3c6c6bf-8e27-44f9-94b7-5e5428ad80b7"
      },
      "source": [
        "'Right direction'\n",
        "for c in range(len(word)):\n",
        "    for d in range (c, len(word)):\n",
        "        print(word[d].upper(), end=' ')\n",
        "    print('')"
      ],
      "execution_count": 25,
      "outputs": [
        {
          "output_type": "stream",
          "text": [
            "P O P E   J O H A N N E S   P A U L U S   S E C U N D U S \n",
            "O P E   J O H A N N E S   P A U L U S   S E C U N D U S \n",
            "P E   J O H A N N E S   P A U L U S   S E C U N D U S \n",
            "E   J O H A N N E S   P A U L U S   S E C U N D U S \n",
            "  J O H A N N E S   P A U L U S   S E C U N D U S \n",
            "J O H A N N E S   P A U L U S   S E C U N D U S \n",
            "O H A N N E S   P A U L U S   S E C U N D U S \n",
            "H A N N E S   P A U L U S   S E C U N D U S \n",
            "A N N E S   P A U L U S   S E C U N D U S \n",
            "N N E S   P A U L U S   S E C U N D U S \n",
            "N E S   P A U L U S   S E C U N D U S \n",
            "E S   P A U L U S   S E C U N D U S \n",
            "S   P A U L U S   S E C U N D U S \n",
            "  P A U L U S   S E C U N D U S \n",
            "P A U L U S   S E C U N D U S \n",
            "A U L U S   S E C U N D U S \n",
            "U L U S   S E C U N D U S \n",
            "L U S   S E C U N D U S \n",
            "U S   S E C U N D U S \n",
            "S   S E C U N D U S \n",
            "  S E C U N D U S \n",
            "S E C U N D U S \n",
            "E C U N D U S \n",
            "C U N D U S \n",
            "U N D U S \n",
            "N D U S \n",
            "D U S \n",
            "U S \n",
            "S \n"
          ],
          "name": "stdout"
        }
      ]
    },
    {
      "cell_type": "code",
      "metadata": {
        "colab": {
          "base_uri": "https://localhost:8080/"
        },
        "id": "EjZ_7VfZ3yW8",
        "outputId": "5d5a6e6d-cc4f-4112-fb38-ba897f1c1dd8"
      },
      "source": [
        "'Inversed direction'\n",
        "for c in range(len(word), -1, -1):\n",
        "    for d in range (c, len(word)):\n",
        "        print(word[d].upper(), end=' ')\n",
        "    print('')"
      ],
      "execution_count": 26,
      "outputs": [
        {
          "output_type": "stream",
          "text": [
            "\n",
            "S \n",
            "U S \n",
            "D U S \n",
            "N D U S \n",
            "U N D U S \n",
            "C U N D U S \n",
            "E C U N D U S \n",
            "S E C U N D U S \n",
            "  S E C U N D U S \n",
            "S   S E C U N D U S \n",
            "U S   S E C U N D U S \n",
            "L U S   S E C U N D U S \n",
            "U L U S   S E C U N D U S \n",
            "A U L U S   S E C U N D U S \n",
            "P A U L U S   S E C U N D U S \n",
            "  P A U L U S   S E C U N D U S \n",
            "S   P A U L U S   S E C U N D U S \n",
            "E S   P A U L U S   S E C U N D U S \n",
            "N E S   P A U L U S   S E C U N D U S \n",
            "N N E S   P A U L U S   S E C U N D U S \n",
            "A N N E S   P A U L U S   S E C U N D U S \n",
            "H A N N E S   P A U L U S   S E C U N D U S \n",
            "O H A N N E S   P A U L U S   S E C U N D U S \n",
            "J O H A N N E S   P A U L U S   S E C U N D U S \n",
            "  J O H A N N E S   P A U L U S   S E C U N D U S \n",
            "E   J O H A N N E S   P A U L U S   S E C U N D U S \n",
            "P E   J O H A N N E S   P A U L U S   S E C U N D U S \n",
            "O P E   J O H A N N E S   P A U L U S   S E C U N D U S \n",
            "P O P E   J O H A N N E S   P A U L U S   S E C U N D U S \n"
          ],
          "name": "stdout"
        }
      ]
    },
    {
      "cell_type": "code",
      "metadata": {
        "colab": {
          "base_uri": "https://localhost:8080/"
        },
        "id": "H-_lKR39j4c7",
        "outputId": "538c78a3-d7ce-463d-8a4f-07584fec9564"
      },
      "source": [
        "'Right'\n",
        "for c in range(len(word)):\n",
        "    for d in range (len(word) - c):\n",
        "        print(word[d].upper(), end=' ')\n",
        "    print('')"
      ],
      "execution_count": 27,
      "outputs": [
        {
          "output_type": "stream",
          "text": [
            "P O P E   J O H A N N E S   P A U L U S   S E C U N D U S \n",
            "P O P E   J O H A N N E S   P A U L U S   S E C U N D U \n",
            "P O P E   J O H A N N E S   P A U L U S   S E C U N D \n",
            "P O P E   J O H A N N E S   P A U L U S   S E C U N \n",
            "P O P E   J O H A N N E S   P A U L U S   S E C U \n",
            "P O P E   J O H A N N E S   P A U L U S   S E C \n",
            "P O P E   J O H A N N E S   P A U L U S   S E \n",
            "P O P E   J O H A N N E S   P A U L U S   S \n",
            "P O P E   J O H A N N E S   P A U L U S   \n",
            "P O P E   J O H A N N E S   P A U L U S \n",
            "P O P E   J O H A N N E S   P A U L U \n",
            "P O P E   J O H A N N E S   P A U L \n",
            "P O P E   J O H A N N E S   P A U \n",
            "P O P E   J O H A N N E S   P A \n",
            "P O P E   J O H A N N E S   P \n",
            "P O P E   J O H A N N E S   \n",
            "P O P E   J O H A N N E S \n",
            "P O P E   J O H A N N E \n",
            "P O P E   J O H A N N \n",
            "P O P E   J O H A N \n",
            "P O P E   J O H A \n",
            "P O P E   J O H \n",
            "P O P E   J O \n",
            "P O P E   J \n",
            "P O P E   \n",
            "P O P E \n",
            "P O P \n",
            "P O \n",
            "P \n"
          ],
          "name": "stdout"
        }
      ]
    },
    {
      "cell_type": "code",
      "metadata": {
        "colab": {
          "base_uri": "https://localhost:8080/"
        },
        "id": "66y90fQBbI1V",
        "outputId": "ec0232d9-4734-4c95-eaa3-241a1f2956c3"
      },
      "source": [
        "'Inversed'\n",
        "for c in range(len(word), -1, -1):\n",
        "    for d in range (len(word) - c):\n",
        "        print(word[d].upper(), end=' ')\n",
        "    print('')"
      ],
      "execution_count": 28,
      "outputs": [
        {
          "output_type": "stream",
          "text": [
            "\n",
            "P \n",
            "P O \n",
            "P O P \n",
            "P O P E \n",
            "P O P E   \n",
            "P O P E   J \n",
            "P O P E   J O \n",
            "P O P E   J O H \n",
            "P O P E   J O H A \n",
            "P O P E   J O H A N \n",
            "P O P E   J O H A N N \n",
            "P O P E   J O H A N N E \n",
            "P O P E   J O H A N N E S \n",
            "P O P E   J O H A N N E S   \n",
            "P O P E   J O H A N N E S   P \n",
            "P O P E   J O H A N N E S   P A \n",
            "P O P E   J O H A N N E S   P A U \n",
            "P O P E   J O H A N N E S   P A U L \n",
            "P O P E   J O H A N N E S   P A U L U \n",
            "P O P E   J O H A N N E S   P A U L U S \n",
            "P O P E   J O H A N N E S   P A U L U S   \n",
            "P O P E   J O H A N N E S   P A U L U S   S \n",
            "P O P E   J O H A N N E S   P A U L U S   S E \n",
            "P O P E   J O H A N N E S   P A U L U S   S E C \n",
            "P O P E   J O H A N N E S   P A U L U S   S E C U \n",
            "P O P E   J O H A N N E S   P A U L U S   S E C U N \n",
            "P O P E   J O H A N N E S   P A U L U S   S E C U N D \n",
            "P O P E   J O H A N N E S   P A U L U S   S E C U N D U \n",
            "P O P E   J O H A N N E S   P A U L U S   S E C U N D U S \n"
          ],
          "name": "stdout"
        }
      ]
    },
    {
      "cell_type": "code",
      "metadata": {
        "colab": {
          "base_uri": "https://localhost:8080/"
        },
        "id": "E2bbloZrqto3",
        "outputId": "61db7479-706c-4232-efe2-2e9f04ff805c"
      },
      "source": [
        "'Right'\n",
        "for lin in range(len(word)):\n",
        "    for col in range (len(word) - lin):\n",
        "        print(word[lin].upper(), end=' ')\n",
        "    print('')"
      ],
      "execution_count": 29,
      "outputs": [
        {
          "output_type": "stream",
          "text": [
            "P P P P P P P P P P P P P P P P P P P P P P P P P P P P P \n",
            "O O O O O O O O O O O O O O O O O O O O O O O O O O O O \n",
            "P P P P P P P P P P P P P P P P P P P P P P P P P P P \n",
            "E E E E E E E E E E E E E E E E E E E E E E E E E E \n",
            "                                                  \n",
            "J J J J J J J J J J J J J J J J J J J J J J J J \n",
            "O O O O O O O O O O O O O O O O O O O O O O O \n",
            "H H H H H H H H H H H H H H H H H H H H H H \n",
            "A A A A A A A A A A A A A A A A A A A A A \n",
            "N N N N N N N N N N N N N N N N N N N N \n",
            "N N N N N N N N N N N N N N N N N N N \n",
            "E E E E E E E E E E E E E E E E E E \n",
            "S S S S S S S S S S S S S S S S S \n",
            "                                \n",
            "P P P P P P P P P P P P P P P \n",
            "A A A A A A A A A A A A A A \n",
            "U U U U U U U U U U U U U \n",
            "L L L L L L L L L L L L \n",
            "U U U U U U U U U U U \n",
            "S S S S S S S S S S \n",
            "                  \n",
            "S S S S S S S S \n",
            "E E E E E E E \n",
            "C C C C C C \n",
            "U U U U U \n",
            "N N N N \n",
            "D D D \n",
            "U U \n",
            "S \n"
          ],
          "name": "stdout"
        }
      ]
    },
    {
      "cell_type": "code",
      "metadata": {
        "colab": {
          "base_uri": "https://localhost:8080/"
        },
        "id": "m--M_tVI_Cwh",
        "outputId": "2feebdc8-bab7-4726-c90a-ec55206d6e12"
      },
      "source": [
        "'Inversed'\n",
        "for lin in range(len(word), -1, -1):\n",
        "    for col in range (len(word) - lin):\n",
        "        print(word[lin].upper(), end=' ')\n",
        "    print('')"
      ],
      "execution_count": 31,
      "outputs": [
        {
          "output_type": "stream",
          "text": [
            "\n",
            "S \n",
            "U U \n",
            "D D D \n",
            "N N N N \n",
            "U U U U U \n",
            "C C C C C C \n",
            "E E E E E E E \n",
            "S S S S S S S S \n",
            "                  \n",
            "S S S S S S S S S S \n",
            "U U U U U U U U U U U \n",
            "L L L L L L L L L L L L \n",
            "U U U U U U U U U U U U U \n",
            "A A A A A A A A A A A A A A \n",
            "P P P P P P P P P P P P P P P \n",
            "                                \n",
            "S S S S S S S S S S S S S S S S S \n",
            "E E E E E E E E E E E E E E E E E E \n",
            "N N N N N N N N N N N N N N N N N N N \n",
            "N N N N N N N N N N N N N N N N N N N N \n",
            "A A A A A A A A A A A A A A A A A A A A A \n",
            "H H H H H H H H H H H H H H H H H H H H H H \n",
            "O O O O O O O O O O O O O O O O O O O O O O O \n",
            "J J J J J J J J J J J J J J J J J J J J J J J J \n",
            "                                                  \n",
            "E E E E E E E E E E E E E E E E E E E E E E E E E E \n",
            "P P P P P P P P P P P P P P P P P P P P P P P P P P P \n",
            "O O O O O O O O O O O O O O O O O O O O O O O O O O O O \n",
            "P P P P P P P P P P P P P P P P P P P P P P P P P P P P P \n"
          ],
          "name": "stdout"
        }
      ]
    }
  ]
}