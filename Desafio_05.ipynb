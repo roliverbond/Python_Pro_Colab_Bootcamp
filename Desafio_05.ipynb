{
  "nbformat": 4,
  "nbformat_minor": 0,
  "metadata": {
    "colab": {
      "name": "Desafio_05.ipynb",
      "provenance": [],
      "authorship_tag": "ABX9TyNdi8SUUg9iO94sR2fZbc6S",
      "include_colab_link": true
    },
    "kernelspec": {
      "name": "python3",
      "display_name": "Python 3"
    },
    "language_info": {
      "name": "python"
    }
  },
  "cells": [
    {
      "cell_type": "markdown",
      "metadata": {
        "id": "view-in-github",
        "colab_type": "text"
      },
      "source": [
        "<a href=\"https://colab.research.google.com/github/marcosranes/Bootcamp_Python_Pro_Colab/blob/main/Desafio_05.ipynb\" target=\"_parent\"><img src=\"https://colab.research.google.com/assets/colab-badge.svg\" alt=\"Open In Colab\"/></a>"
      ]
    },
    {
      "cell_type": "markdown",
      "metadata": {
        "id": "unobFRm2JSwP"
      },
      "source": [
        "### Faça um programa para a leitura de duas notas parciais de um aluno. O programa deve calcular a média alcançada por aluno e apresentar:\n",
        "- A mensagem \"Aprovado\", se a média alcançada for maior ou igual a sete;\n",
        "- A mensagem \"Reprovado\", se a média for menor do que sete;\n",
        "- A mensagem \"Aprovado com Distinção\", se a média for igual a dez.\n",
        "\n",
        "<small>*Source: [https://wiki.python.org.br/EstruturaDeDecisao](https://wiki.python.org.br/EstruturaDeDecisao)*</small>"
      ]
    },
    {
      "cell_type": "code",
      "metadata": {
        "colab": {
          "base_uri": "https://localhost:8080/"
        },
        "id": "GzrzIgzbHbSh",
        "outputId": "63413962-2028-4606-a86a-383e1c98ca04"
      },
      "source": [
        "def result(media: float) -> str:\n",
        "    if media == 10:\n",
        "        return 'aprovado com distinção'\n",
        "    elif media >= 7:\n",
        "        return 'aprovado'\n",
        "    return 'reprovado'\n",
        "\n",
        "\n",
        "if __name__ == \"__main__\":\n",
        "    print(result(8))\n"
      ],
      "execution_count": 2,
      "outputs": [
        {
          "output_type": "stream",
          "text": [
            "aprovado\n"
          ],
          "name": "stdout"
        }
      ]
    }
  ]
}