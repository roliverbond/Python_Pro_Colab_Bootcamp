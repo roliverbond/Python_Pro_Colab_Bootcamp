{
  "nbformat": 4,
  "nbformat_minor": 0,
  "metadata": {
    "colab": {
      "name": "Desafio_17.ipynb",
      "provenance": [],
      "collapsed_sections": [],
      "authorship_tag": "ABX9TyOHd5py06y1DYu/2dB+h7L+",
      "include_colab_link": true
    },
    "kernelspec": {
      "display_name": "Python 3",
      "name": "python3"
    },
    "language_info": {
      "name": "python"
    }
  },
  "cells": [
    {
      "cell_type": "markdown",
      "metadata": {
        "id": "view-in-github",
        "colab_type": "text"
      },
      "source": [
        "<a href=\"https://colab.research.google.com/github/marcosranes/Bootcamp_Python_Pro_Colab/blob/main/Desafio_17.ipynb\" target=\"_parent\"><img src=\"https://colab.research.google.com/assets/colab-badge.svg\" alt=\"Open In Colab\"/></a>"
      ]
    },
    {
      "cell_type": "markdown",
      "metadata": {
        "id": "j4VX1_B4s6xP"
      },
      "source": [
        "### Faça um Programa para uma loja de tintas. O programa deverá pedir o tamanho em metros quadrados da área a ser pintada. Considere que a cobertura da tinta é de 1 litro para cada 6 metros quadrados e que a tinta é vendida em latas de 18 litros, que custam `R$ 80,00` ou em galões de 3,6 litros, que custam `R$ 25,00`.\n",
        "Informe ao usuário as quantidades de tinta a serem compradas e os respectivos preços em 3 situações:\n",
        "* comprar apenas latas de 18 litros;\n",
        "* comprar apenas galões de 3,6 litros;\n",
        "* misturar latas e galões, de forma que o desperdício de tinta seja menor. Acrescente 10% de folga e sempre arredonde os valores para cima, isto é, considere latas cheias."
      ]
    },
    {
      "cell_type": "code",
      "metadata": {
        "colab": {
          "base_uri": "https://localhost:8080/"
        },
        "id": "WlWWA7rTuynz",
        "outputId": "a63eb357-b6e6-487a-cfc1-cb863620b167"
      },
      "source": [
        "def area(num1: float, num2: float) -> float:\n",
        "    return num1 * num2\n",
        "\n",
        "\n",
        "def increment(num: int) -> float:\n",
        "    return real_area * num / 100\n",
        "\n",
        "\n",
        "'prices'\n",
        "prices = {'can': 80, 'gallon': 25}\n",
        "\n",
        "percentual_tax = 10\n",
        "\n",
        "width = 0\n",
        "height = 0\n",
        "\n",
        "while width <= 0:\n",
        "    width = float(input('Largura[metros]: '))\n",
        "    if width > 0:\n",
        "        break\n",
        "    print('type a valid number!')\n",
        "\n",
        "while height <= 0:\n",
        "    height = float(input('Altura[metros]: '))\n",
        "    if height > 0:\n",
        "        break\n",
        "    print('type a valid number!')\n",
        "\n",
        "real_area = area(width, height)\n",
        "\n",
        "nominal_area = real_area + increment(percentual_tax)\n",
        "\n",
        "liters = nominal_area / 6\n",
        "\n",
        "'Cans + Gallons'\n",
        "acc1 = 0\n",
        "acc2 = 0\n",
        "cans = liters\n",
        "quantity_cans = 0\n",
        "while cans >= 18:\n",
        "    cans -= 18\n",
        "    quantity_cans += 1\n",
        "    acc1 += prices['can']\n",
        "remaining_liters = cans % 18\n",
        "quantity_gallons = 0\n",
        "while remaining_liters >= 3.6:\n",
        "    remaining_liters -= 3.6\n",
        "    quantity_gallons += 1\n",
        "    acc2 += prices['gallon']\n",
        "\n",
        "'Gallons Only'\n",
        "acc3 = 0\n",
        "gallons = liters\n",
        "quantity_gallons_only = 0\n",
        "while gallons >= 3.6:\n",
        "    gallons -= 3.6\n",
        "    quantity_gallons_only += 1\n",
        "    acc3 += prices['gallon']\n"
      ],
      "execution_count": null,
      "outputs": [
        {
          "output_type": "stream",
          "text": [
            "Largura[metros]: 90\n",
            "Altura[metros]: 2.9\n"
          ],
          "name": "stdout"
        }
      ]
    },
    {
      "cell_type": "code",
      "metadata": {
        "colab": {
          "base_uri": "https://localhost:8080/"
        },
        "id": "ZUKfD-_UyCME",
        "outputId": "4e51b146-d45f-4b0d-9c0f-fe2e193ad99e"
      },
      "source": [
        "print(f'Real Area_______________: {real_area:.2f} m2'.replace('.', ','))\n",
        "print(f'Increment +{percentual_tax}%__________:  {increment(percentual_tax):.2f} m2'.replace('.', ','))\n",
        "print(f'Nominal Area____________: {nominal_area:.2f} m2'.replace('.', ','))\n",
        "print(f'Volume__________________: {liters:.3f} Lts'.replace('.', ','))\n",
        "print(f'Remaining [ {round((remaining_liters * 100 / 3.6), 2)}% ] Vol: {remaining_liters:.3f} Lts'.replace('.', ','), end='')\n",
        "if liters < 3.6:\n",
        "    print(f\" <<-- Consider buying at least one gallon!\")\n",
        "elif remaining_liters > 1.6:\n",
        "    print(f\" <<-- It's strongly recommended adding one more gallon!\")\n",
        "elif remaining_liters > 1:\n",
        "    print(f\" <<-- We suggest adding one more gallon!\")\n",
        "else:\n",
        "    print('\\n')\n",
        "\n",
        "if not quantity_cans and not quantity_gallons:\n",
        "    ''\n",
        "else:\n",
        "    print('-----------------------------------')\n",
        "    print(f'1st Option\\n')\n",
        "    print(f' Can [18 Lts]___________: R$ {prices[\"can\"]:.2f}'.replace('.', ','))\n",
        "    print(f' Quantity_______________: {quantity_cans}')\n",
        "    print(f' Total__________________: R$ {acc1:.2f}\\n'.replace('.', ','))\n",
        "    print(f' Gallon [3,6 Lts]_______: R$ {prices[\"gallon\"]:.2f}'.replace('.', ','))\n",
        "    print(f' Quantity_______________: {quantity_gallons}')\n",
        "    print(f' Total__________________: R$ {acc2:.2f}\\n'.replace('.', ','))\n",
        "    print(f' BUDGET_________________: R$ {(acc1 + acc2):.2f}'.replace('.', ','), end='')\n",
        "    print(f\" <<-- BETTER OFFER!!! You save R$ {acc3 - (acc1 + acc2):.2f}\".replace('.', ',') if (acc1 + acc2) < acc3 else \"\")\n",
        "if not quantity_cans:\n",
        "    ''\n",
        "else:\n",
        "    print('-----------------------------------')\n",
        "    print(f'2nd Option\\n')\n",
        "    print(f' Gallon [3,6 Lts]_______: R$ {prices[\"gallon\"]:.2f}'.replace('.', ','))\n",
        "    print(f' Quantity_______________: {quantity_gallons_only}')\n",
        "    print(f' Total__________________: R$ {acc3:.2f}\\n'.replace('.', ','))\n",
        "    print(f' BUDGET_________________: R$ {acc3:.2f}'.replace('.', ','))\n"
      ],
      "execution_count": null,
      "outputs": [
        {
          "output_type": "stream",
          "text": [
            "Real Area_______________: 261,00 m2\n",
            "Increment +10%__________:  26,10 m2\n",
            "Nominal Area____________: 287,10 m2\n",
            "Volume__________________: 47,850 Lts\n",
            "Remaining [ 29,17% ] Vol: 1,050 Lts <<-- We suggest adding one more gallon!\n",
            "-----------------------------------\n",
            "1st Option\n",
            "\n",
            " Can [18 Lts]___________: R$ 80,00\n",
            " Quantity_______________: 2\n",
            " Total__________________: R$ 160,00\n",
            "\n",
            " Gallon [3,6 Lts]_______: R$ 25,00\n",
            " Quantity_______________: 3\n",
            " Total__________________: R$ 75,00\n",
            "\n",
            " BUDGET_________________: R$ 235,00 <<-- BETTER OFFER!!! You save R$ 90,00\n",
            "-----------------------------------\n",
            "2nd Option\n",
            "\n",
            " Gallon [3,6 Lts]_______: R$ 25,00\n",
            " Quantity_______________: 13\n",
            " Total__________________: R$ 325,00\n",
            "\n",
            " BUDGET_________________: R$ 325,00\n"
          ],
          "name": "stdout"
        }
      ]
    }
  ]
}