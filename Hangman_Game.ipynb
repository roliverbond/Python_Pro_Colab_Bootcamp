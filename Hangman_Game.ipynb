{
  "nbformat": 4,
  "nbformat_minor": 0,
  "metadata": {
    "colab": {
      "name": "Hangman_Game.ipynb",
      "provenance": [],
      "collapsed_sections": [],
      "authorship_tag": "ABX9TyMCJSanBugs4whVVvzN8KvP",
      "include_colab_link": true
    },
    "kernelspec": {
      "display_name": "Python 3",
      "name": "python3"
    },
    "language_info": {
      "name": "python"
    }
  },
  "cells": [
    {
      "cell_type": "markdown",
      "metadata": {
        "id": "view-in-github",
        "colab_type": "text"
      },
      "source": [
        "<a href=\"https://colab.research.google.com/github/marcosranes/Bootcamp_Python_Pro_Colab/blob/main/Hangman_Game.ipynb\" target=\"_parent\"><img src=\"https://colab.research.google.com/assets/colab-badge.svg\" alt=\"Open In Colab\"/></a>"
      ]
    },
    {
      "cell_type": "markdown",
      "metadata": {
        "id": "3UlnoO_QJ9NC"
      },
      "source": [
        "Jogo de Forca. Desenvolva um jogo da forca. O programa terá uma lista de palavras lidas de um arquivo texto e escolherá uma aleatoriamente. O jogador poderá errar 6 vezes antes de ser enforcado.\n",
        "```\n",
        "Digite uma letra: A\n",
        "-> Você errou pela 1ª vez. Tente de novo!\n",
        "\n",
        "Digite uma letra: O\n",
        "A palavra é: _ _ _ _ O\n",
        "\n",
        "Digite uma letra: E\n",
        "A palavra é: _ E _ _ O\n",
        "\n",
        "Digite uma letra: S\n",
        "-> Você errou pela 2ª vez. Tente de novo!\n",
        "```\n"
      ]
    },
    {
      "cell_type": "code",
      "metadata": {
        "colab": {
          "base_uri": "https://localhost:8080/"
        },
        "id": "gGc359SKg3vx",
        "outputId": "c4828e7b-f4ac-4653-dafe-1fb08207106d"
      },
      "source": [
        "from time import sleep\n",
        "from random import shuffle, randint\n",
        "\n",
        "\n",
        "def shuffle_words() -> str:\n",
        "    fruit_list = [\n",
        "        \"apple\", \"banana\", \"cherry\", 'raspberry', 'watermelon', 'Pineapple', 'Blackberry', 'fig','Coconut',\n",
        "        'Cashew', 'Avocado', 'Plum', 'Apricot', 'Guava', 'lime', 'Kiwi fruit', 'Orange', 'Lemon', 'Soursop',\n",
        "        \"Mango\", 'Passion fruit', 'Strawberry', 'Peach', 'Pear', 'Grape', 'Tangerine', 'Star fruit','Melon',\n",
        "        ]\n",
        "    shuffle(fruit_list)\n",
        "    return fruit_list[randint(0, len(fruit_list))].upper()\n",
        "\n",
        "\n",
        "entered_chars = []\n",
        "correct_words = []\n",
        "secret_word = shuffle_words()\n",
        "for chars in secret_word:\n",
        "    correct_words.append('___' if chars.isalpha() else ' ')\n",
        "#print(f\"\\n{''.join(correct_words)}\\n\")\n",
        "for c in correct_words:\n",
        "    print(f'{c}', end=' ')\n",
        "    sleep(0.5)\n",
        "print('\\n')\n",
        "c = 0\n",
        "while c < 6:\n",
        "    while True:\n",
        "        string = input('letter: ').replace(\" \", \"\").upper()\n",
        "        entered_chars.append(string)\n",
        "\n",
        "        if string.isdigit() or string == '':\n",
        "            print('- invalid: Only letters!\\n')\n",
        "        \n",
        "        elif string not in secret_word:\n",
        "            print(f\"- the letter '{string}' doesn't belong to the secret word. You have {abs(c-5)} more attempt(s).\\n\")\n",
        "            c += 1\n",
        "            if c == 6:\n",
        "                print('YOU LOSE!')\n",
        "                print(f'- the secret word is {secret_word}')\n",
        "                break\n",
        "        else:\n",
        "            break\n",
        "        \n",
        "        sleep(1.5)\n",
        "    print('')\n",
        "\n",
        "    index = 0\n",
        "    for letter in secret_word:\n",
        "        if string == letter:\n",
        "            correct_words[index] = f' {letter} '\n",
        "        index += 1   \n",
        "    sleep(0.5)\n",
        "    print(f\"{' '.join(correct_words)}\\n\")\n",
        "    sleep(1)\n",
        "    if not '___' in correct_words:\n",
        "        print('YOU WIN!')\n",
        "        break        \n",
        "sleep(2)\n",
        "print('\\nEnd of the program.')\n"
      ],
      "execution_count": 25,
      "outputs": [
        {
          "output_type": "stream",
          "text": [
            "___ ___ ___ ___   ___ ___ ___ ___ ___ \n",
            "\n",
            "letter: a\n",
            "- the letter 'A' doesn't belong to the secret word. You have 5 more attempt(s).\n",
            "\n",
            "letter: e\n",
            "- the letter 'E' doesn't belong to the secret word. You have 4 more attempt(s).\n",
            "\n",
            "letter: i\n",
            "\n",
            "___  I  ___  I    ___ ___ ___  I  ___\n",
            "\n",
            "letter:  \n",
            "- invalid: Only letters!\n",
            "\n",
            "letter: 1\n",
            "- invalid: Only letters!\n",
            "\n",
            "letter: b\n",
            "- the letter 'B' doesn't belong to the secret word. You have 3 more attempt(s).\n",
            "\n",
            "letter: f\n",
            "\n",
            "___  I  ___  I     F  ___ ___  I  ___\n",
            "\n",
            "letter: t\n",
            "\n",
            "___  I  ___  I     F  ___ ___  I   T \n",
            "\n",
            "letter: k\n",
            "\n",
            " K   I  ___  I     F  ___ ___  I   T \n",
            "\n",
            "letter: u\n",
            "\n",
            " K   I  ___  I     F  ___  U   I   T \n",
            "\n",
            "letter: r\n",
            "\n",
            " K   I  ___  I     F   R   U   I   T \n",
            "\n",
            "letter: w\n",
            "\n",
            " K   I   W   I     F   R   U   I   T \n",
            "\n",
            "YOU WIN!\n",
            "\n",
            "End of the program.\n"
          ],
          "name": "stdout"
        }
      ]
    },
    {
      "cell_type": "code",
      "metadata": {
        "id": "4JytH-dZTT16",
        "colab": {
          "base_uri": "https://localhost:8080/"
        },
        "outputId": "b7ab45e9-c52d-4fdb-ad14-8731b380f250"
      },
      "source": [
        "\"TEST\"\n",
        "\"['D', 'U', 'M', 'M', 'I', 'E', 'S'] as a list\"\n",
        "trace = []\n",
        "word = 'dummies'.upper()\n",
        "string = 'A'\n",
        "for c in word:\n",
        "    trace.append('___')\n",
        "    print(trace)\n",
        "#if string in word:"
      ],
      "execution_count": 8,
      "outputs": [
        {
          "output_type": "stream",
          "text": [
            "['___']\n",
            "['___', '___']\n",
            "['___', '___', '___']\n",
            "['___', '___', '___', '___']\n",
            "['___', '___', '___', '___', '___']\n",
            "['___', '___', '___', '___', '___', '___']\n",
            "['___', '___', '___', '___', '___', '___', '___']\n"
          ],
          "name": "stdout"
        }
      ]
    },
    {
      "cell_type": "code",
      "metadata": {
        "id": "_kYkTomFK7Xd",
        "colab": {
          "base_uri": "https://localhost:8080/"
        },
        "outputId": "ad513065-dad2-442d-9f25-e79811e5f8f3"
      },
      "source": [
        "secret_word = 'DUMMIES'\n",
        "string = ['A', 'C', 'S']\n",
        "for c in secret_word:\n",
        "    for v in range(len(string)):\n",
        "        print(string[v] if string[v] in c else '_', end=' ')\n"
      ],
      "execution_count": 9,
      "outputs": [
        {
          "output_type": "stream",
          "text": [
            "_ _ _ _ _ _ _ _ _ _ _ _ _ _ _ _ _ _ _ _ S "
          ],
          "name": "stdout"
        }
      ]
    }
  ]
}