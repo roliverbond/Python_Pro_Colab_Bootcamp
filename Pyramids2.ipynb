{
  "nbformat": 4,
  "nbformat_minor": 0,
  "metadata": {
    "colab": {
      "name": "Pyramids2.ipynb",
      "provenance": [],
      "authorship_tag": "ABX9TyPU24V2uV9QkngAPVXxIiFq",
      "include_colab_link": true
    },
    "kernelspec": {
      "name": "python3",
      "display_name": "Python 3"
    },
    "language_info": {
      "name": "python"
    }
  },
  "cells": [
    {
      "cell_type": "markdown",
      "metadata": {
        "id": "view-in-github",
        "colab_type": "text"
      },
      "source": [
        "<a href=\"https://colab.research.google.com/github/marcosranes/Bootcamp_Python_Pro_Colab/blob/main/Pyramids2.ipynb\" target=\"_parent\"><img src=\"https://colab.research.google.com/assets/colab-badge.svg\" alt=\"Open In Colab\"/></a>"
      ]
    },
    {
      "cell_type": "code",
      "metadata": {
        "id": "XKyW4YsRTX3p"
      },
      "source": [
        "def piramide(num: int):\n",
        "    for c in range(1, num + 1):\n",
        "        for _ in range(c):\n",
        "            print(c, end=' ')\n",
        "        print()\n",
        "\n"
      ],
      "execution_count": 1,
      "outputs": []
    },
    {
      "cell_type": "code",
      "metadata": {
        "id": "oYbhH-JlWeTM"
      },
      "source": [
        "def piramide2(num: int):\n",
        "    for c in range(num, 0, -1):\n",
        "        for c in range(1, c + 1):\n",
        "            print(c, end=' ')\n",
        "        print()\n",
        "#    for c in range(2, num + 1):\n",
        "#        print(c)"
      ],
      "execution_count": 9,
      "outputs": []
    },
    {
      "cell_type": "code",
      "metadata": {
        "colab": {
          "base_uri": "https://localhost:8080/"
        },
        "id": "uZgg5Tl3mowy",
        "outputId": "1c99dc94-1675-464c-eba6-fa7362ce6ec3"
      },
      "source": [
        "piramide5(9)"
      ],
      "execution_count": 8,
      "outputs": [
        {
          "output_type": "stream",
          "text": [
            "                     1  \n",
            "                  2  2  \n",
            "               3  3  3  \n",
            "            4  4  4  4  \n",
            "         5  5  5  5  5  \n",
            "      6  6  6  6  6  6  \n",
            "   7  7  7  7  7  7  7  \n",
            "8  8  8  8  8  8  8  8  \n",
            "9  9  9  9  9  9  9  9  \n"
          ],
          "name": "stdout"
        }
      ]
    },
    {
      "cell_type": "code",
      "metadata": {
        "id": "cZ0WkWlpXbIv"
      },
      "source": [
        "def piramide7(num):\n",
        "    for c in range(1, num + 1):\n",
        "        for d in range(num, 0, -1):\n",
        "            if d > c:\n",
        "                print(' ', end=' ')\n",
        "            else:\n",
        "                print(c, end='   ')\n",
        "        print('')"
      ],
      "execution_count": 89,
      "outputs": []
    },
    {
      "cell_type": "code",
      "metadata": {
        "id": "YB8kur_Gcf8q"
      },
      "source": [
        "def piramide8(num, desloc=0):\n",
        "#   for c in range(1, num + 1):\n",
        "    for c in range(num, 0, -1):\n",
        "        for d in range(num + desloc, 0, -1):\n",
        "            if d > c:\n",
        "                print(' ', end=' ')\n",
        "            else:\n",
        "                print(c, end='   ')\n",
        "        print('')"
      ],
      "execution_count": 149,
      "outputs": []
    },
    {
      "cell_type": "code",
      "metadata": {
        "colab": {
          "base_uri": "https://localhost:8080/"
        },
        "id": "pOlSzgypbHg9",
        "outputId": "be4f89a2-4062-4a19-94a8-d8f4182ac4bb"
      },
      "source": [
        "piramide7(9)\n",
        "\n",
        "piramide8(8, 1)"
      ],
      "execution_count": 165,
      "outputs": [
        {
          "output_type": "stream",
          "text": [
            "                1   \n",
            "              2   2   \n",
            "            3   3   3   \n",
            "          4   4   4   4   \n",
            "        5   5   5   5   5   \n",
            "      6   6   6   6   6   6   \n",
            "    7   7   7   7   7   7   7   \n",
            "  8   8   8   8   8   8   8   8   \n",
            "9   9   9   9   9   9   9   9   9   \n",
            "  8   8   8   8   8   8   8   8   \n",
            "    7   7   7   7   7   7   7   \n",
            "      6   6   6   6   6   6   \n",
            "        5   5   5   5   5   \n",
            "          4   4   4   4   \n",
            "            3   3   3   \n",
            "              2   2   \n",
            "                1   \n"
          ],
          "name": "stdout"
        }
      ]
    },
    {
      "cell_type": "code",
      "metadata": {
        "id": "eIOIV3ExSkop"
      },
      "source": [
        "def piramide6(num):\n",
        "    for c in range(1, num + 1):\n",
        "        for d in range(num, 0, -1):\n",
        "            if d > c:\n",
        "                print(' ', end=' ')\n",
        "            else:\n",
        "                print(f'{c}', end=' ')\n",
        "        print('')"
      ],
      "execution_count": 60,
      "outputs": []
    },
    {
      "cell_type": "code",
      "metadata": {
        "colab": {
          "base_uri": "https://localhost:8080/"
        },
        "id": "pZdJLlRVT6Yw",
        "outputId": "97c78a6f-2218-4bea-9caa-8b54f3732fda"
      },
      "source": [
        "piramide(9)\n",
        "print()\n",
        "piramide6(9)\n",
        "print()\n",
        "piramide2(9)\n"
      ],
      "execution_count": 66,
      "outputs": [
        {
          "output_type": "stream",
          "text": [
            "1 \n",
            "2 2 \n",
            "3 3 3 \n",
            "4 4 4 4 \n",
            "5 5 5 5 5 \n",
            "6 6 6 6 6 6 \n",
            "7 7 7 7 7 7 7 \n",
            "8 8 8 8 8 8 8 8 \n",
            "9 9 9 9 9 9 9 9 9 \n",
            "\n",
            "                1 \n",
            "              2 2 \n",
            "            3 3 3 \n",
            "          4 4 4 4 \n",
            "        5 5 5 5 5 \n",
            "      6 6 6 6 6 6 \n",
            "    7 7 7 7 7 7 7 \n",
            "  8 8 8 8 8 8 8 8 \n",
            "9 9 9 9 9 9 9 9 9 \n",
            "\n",
            "1 2 3 4 5 6 7 8 9 \n",
            "1 2 3 4 5 6 7 8 \n",
            "1 2 3 4 5 6 7 \n",
            "1 2 3 4 5 6 \n",
            "1 2 3 4 5 \n",
            "1 2 3 4 \n",
            "1 2 3 \n",
            "1 2 \n",
            "1 \n"
          ],
          "name": "stdout"
        }
      ]
    },
    {
      "cell_type": "code",
      "metadata": {
        "id": "LtJpatnBmTQK"
      },
      "source": [
        "def piramide4(num: int):\n",
        "    for c in range(num, 0, -1):\n",
        "        for c in range(1, c + 1):\n",
        "            print(c, end=' ')\n",
        "        print()\n",
        "#    for c in range(2, num + 1):\n",
        "#        print(c)"
      ],
      "execution_count": null,
      "outputs": []
    },
    {
      "cell_type": "code",
      "metadata": {
        "id": "gCmudaHdmJz8"
      },
      "source": [
        "def piramide3(num: int):\n",
        "    co = num\n",
        "    for c in range(1, num + 1):\n",
        "        \n",
        "        for d in range(c):\n",
        "            print(f'{c:^{34 - co}}', end=' ')\n",
        "            co -= 1\n",
        "        print()\n",
        "\n"
      ],
      "execution_count": null,
      "outputs": []
    },
    {
      "cell_type": "code",
      "metadata": {
        "id": "D99Vg5v1Ow0H"
      },
      "source": [
        "def piramide5(num):\n",
        "    for c in range(1, num + 1):\n",
        "        for d in range(num, 1, -1):\n",
        "            if d - 1 > c:\n",
        "                print('  ', end=' ')\n",
        "            else:\n",
        "                print(c, end='  ')\n",
        "        print('')"
      ],
      "execution_count": 4,
      "outputs": []
    },
    {
      "cell_type": "code",
      "metadata": {
        "colab": {
          "base_uri": "https://localhost:8080/"
        },
        "id": "bI8-6u5yV6EP",
        "outputId": "e4ccf395-7677-436d-b09a-3ccb32aa8156"
      },
      "source": [
        "piramide5(9)"
      ],
      "execution_count": 5,
      "outputs": [
        {
          "output_type": "stream",
          "text": [
            "                     1  \n",
            "                  2  2  \n",
            "               3  3  3  \n",
            "            4  4  4  4  \n",
            "         5  5  5  5  5  \n",
            "      6  6  6  6  6  6  \n",
            "   7  7  7  7  7  7  7  \n",
            "8  8  8  8  8  8  8  8  \n",
            "9  9  9  9  9  9  9  9  \n"
          ],
          "name": "stdout"
        }
      ]
    },
    {
      "cell_type": "code",
      "metadata": {
        "colab": {
          "base_uri": "https://localhost:8080/"
        },
        "id": "iL1RRn9BVaLx",
        "outputId": "496a6beb-b1d9-4018-b3fb-b7caaef9957e"
      },
      "source": [
        "piramide6(9)"
      ],
      "execution_count": 7,
      "outputs": [
        {
          "output_type": "stream",
          "text": [
            "              1 \n",
            "            2 2 \n",
            "          3 3 3 \n",
            "        4 4 4 4 \n",
            "      5 5 5 5 5 \n",
            "    6 6 6 6 6 6 \n",
            "  7 7 7 7 7 7 7 \n",
            "8 8 8 8 8 8 8 8 \n",
            "9 9 9 9 9 9 9 9 \n"
          ],
          "name": "stdout"
        }
      ]
    }
  ]
}