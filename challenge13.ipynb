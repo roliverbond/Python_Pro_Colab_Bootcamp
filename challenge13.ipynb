{
  "nbformat": 4,
  "nbformat_minor": 0,
  "metadata": {
    "colab": {
      "name": "challenge13.ipynb",
      "provenance": [],
      "collapsed_sections": [],
      "authorship_tag": "ABX9TyM452j5HABL95vMCbcXiPs+",
      "include_colab_link": true
    },
    "kernelspec": {
      "name": "python3",
      "display_name": "Python 3"
    },
    "language_info": {
      "name": "python"
    }
  },
  "cells": [
    {
      "cell_type": "markdown",
      "metadata": {
        "id": "view-in-github",
        "colab_type": "text"
      },
      "source": [
        "<a href=\"https://colab.research.google.com/github/marcosranes/Bootcamp_Python_Pro_Colab/blob/main/challenge13.ipynb\" target=\"_parent\"><img src=\"https://colab.research.google.com/assets/colab-badge.svg\" alt=\"Open In Colab\"/></a>"
      ]
    },
    {
      "cell_type": "markdown",
      "metadata": {
        "id": "YI6XAIlkkrGR"
      },
      "source": [
        "### 13. Faça um Programa que leia um número inteiro menor que 1000 e imprima a quantidade de centenas, dezenas e unidades do mesmo.\n",
        "Observando os termos no plural a colocação do \"e\", da vírgula entre outros. Exemplo:\n",
        "- 326 = 3 centenas, 2 dezenas e 6 unidades\n",
        "- 12 = 1 dezena e 2 unidades Testar com: 326, 300, 100, 320, 310, 305, 301, 101, 311, 111, 25, 20, 10, 21, 11, 1, 7 e 16"
      ]
    },
    {
      "cell_type": "code",
      "metadata": {
        "colab": {
          "base_uri": "https://localhost:8080/"
        },
        "id": "CupEy0wXkqvd",
        "outputId": "d1005603-966e-423a-bbc9-38e08f1c2169"
      },
      "source": [
        "'Version 1'\n",
        "\n",
        "num = 326\n",
        "\n",
        "if num // 100 > 0:\n",
        "    print(f'{num // 100} centena{\"s\" if num // 100 > 1 else \"\"}', end='')\n",
        "    if not num % 100 // 10 and num % 10 or num % 100 // 10 and not num % 10:\n",
        "        print(' e ', end='')\n",
        "    elif num % 100 // 10 and num % 10:\n",
        "        print(', ', end='')\n",
        "    else:\n",
        "        print('', end='')\n",
        "    num = num % 100\n",
        "if num // 10 > 0:\n",
        "    print(f'{num // 10} dezena{\"s\" if num // 10 > 1 else \"\"}', end='')\n",
        "    if num % 10:\n",
        "        print(' e ', end='')\n",
        "    else:\n",
        "        print('', end='')\n",
        "    num = num % 10\n",
        "if num:\n",
        "    print(f'{num} unidade{\"s\" if num > 1 else \"\"}')\n"
      ],
      "execution_count": 7,
      "outputs": [
        {
          "output_type": "stream",
          "text": [
            "3 centenas, 2 dezenas e 6 unidades\n"
          ],
          "name": "stdout"
        }
      ]
    },
    {
      "cell_type": "code",
      "metadata": {
        "colab": {
          "base_uri": "https://localhost:8080/"
        },
        "id": "_uYyJvrSiNm1",
        "outputId": "1c15a60f-8f9e-47cd-8675-1e96daf0c80a"
      },
      "source": [
        "'Version 2'\n",
        "\n",
        "number = 161\n",
        "centena = number // 100\n",
        "dezena = number % 100 // 10\n",
        "unidade = number % 10\n",
        "if centena:\n",
        "    print(f'{centena} centena{\"s\" if centena > 1 else \"\"}', end='')\n",
        "    if dezena and not unidade or not dezena and unidade:\n",
        "        print(' e ', end='')\n",
        "    elif dezena and unidade:\n",
        "        print(', ', end='')\n",
        "    else:\n",
        "        print('', end='')\n",
        "if dezena:\n",
        "    print(f'{dezena} dezena{\"s\" if dezena > 1 else \"\"}', end='')\n",
        "    if unidade:\n",
        "        print(' e ', end='')\n",
        "    else:\n",
        "        print('', end='')\n",
        "if unidade:\n",
        "    print(f'{unidade} unidade{\"s\" if unidade > 1 else \"\"}')\n"
      ],
      "execution_count": 2,
      "outputs": [
        {
          "output_type": "stream",
          "text": [
            "1 centena, 6 dezenas e 1 unidade\n"
          ],
          "name": "stdout"
        }
      ]
    },
    {
      "cell_type": "code",
      "metadata": {
        "colab": {
          "base_uri": "https://localhost:8080/"
        },
        "id": "DytWkbWXo8vK",
        "outputId": "2bd0e6c2-2059-40e9-d1be-4ba93e32586f"
      },
      "source": [
        "'Version 3'\n",
        "\n",
        "def spelling_numbers(value: int):\n",
        "    centena = value // 100\n",
        "    dezena = value % 100 // 10\n",
        "    unidade = value % 10\n",
        "    if centena:\n",
        "        print(f'{centena} centena{\"s\" if centena > 1 else \"\"}', end='')\n",
        "        if dezena and not unidade or not dezena and unidade:\n",
        "            print(' e ', end='')\n",
        "        elif dezena and unidade:\n",
        "            print(', ', end='')\n",
        "        else:\n",
        "            print('')\n",
        "    if dezena:\n",
        "        print(f'{dezena} dezena{\"s\" if dezena > 1 else \"\"}', end='')\n",
        "        if unidade:\n",
        "            print(' e ', end='')\n",
        "        else:\n",
        "            print('')\n",
        "    if unidade:\n",
        "        print(f'{unidade} unidade{\"s\" if unidade > 1 else \"\"}')\n",
        "\n",
        "\n",
        "if __name__ == '__main__':\n",
        "    testar_com = [326, 12, 300, 100, 320, 310, 305, 301, 101, 311, 111, 25, 20, 10, 21, 11, 1, 7, 16, 999]\n",
        "    for values in testar_com:\n",
        "        spelling_numbers(values)"
      ],
      "execution_count": 3,
      "outputs": [
        {
          "output_type": "stream",
          "text": [
            "3 centenas, 2 dezenas e 6 unidades\n",
            "1 dezena e 2 unidades\n",
            "3 centenas\n",
            "1 centena\n",
            "3 centenas e 2 dezenas\n",
            "3 centenas e 1 dezena\n",
            "3 centenas e 5 unidades\n",
            "3 centenas e 1 unidade\n",
            "1 centena e 1 unidade\n",
            "3 centenas, 1 dezena e 1 unidade\n",
            "1 centena, 1 dezena e 1 unidade\n",
            "2 dezenas e 5 unidades\n",
            "2 dezenas\n",
            "1 dezena\n",
            "2 dezenas e 1 unidade\n",
            "1 dezena e 1 unidade\n",
            "1 unidade\n",
            "7 unidades\n",
            "1 dezena e 6 unidades\n",
            "9 centenas, 9 dezenas e 9 unidades\n"
          ],
          "name": "stdout"
        }
      ]
    },
    {
      "cell_type": "code",
      "metadata": {
        "colab": {
          "base_uri": "https://localhost:8080/"
        },
        "id": "vHBo6h9mWR9H",
        "outputId": "9d71ea7b-cdfb-4085-e830-e0a27b7afd1a"
      },
      "source": [
        "'Version 4'\n",
        "\n",
        "string = input('number: ')\n",
        "\n",
        "centena1 = False\n",
        "dezena1 = False\n",
        "if len(string) == 3:\n",
        "    centena1 = int(string[-3])\n",
        "    dezena1 = int(string[-2])\n",
        "if len(string) == 2:\n",
        "    dezena1 = int(string[-2])\n",
        "unidade1 = int(string[-1])\n",
        "\n",
        "if centena1:\n",
        "    print(f'{centena1} centena{\"s\" if centena1 > 1 else \"\"}', end='')\n",
        "    if dezena1 and not unidade1 or not dezena1 and unidade1:\n",
        "        print(' e ', end='')\n",
        "    elif dezena1 and unidade1:\n",
        "        print(', ', end='')\n",
        "    else:\n",
        "        print('')\n",
        "if dezena1:\n",
        "    print(f'{dezena1} dezena{\"s\" if dezena1 > 1 else \"\"}', end='')\n",
        "    if unidade1:\n",
        "        print(' e ', end='')\n",
        "    else:\n",
        "        print('')\n",
        "if unidade1:\n",
        "    print(f'{unidade1} unidade{\"s\" if unidade1 > 1 else \"\"}')\n"
      ],
      "execution_count": 4,
      "outputs": [
        {
          "output_type": "stream",
          "text": [
            "number: 876\n",
            "8 centenas, 7 dezenas e 6 unidades\n"
          ],
          "name": "stdout"
        }
      ]
    },
    {
      "cell_type": "code",
      "metadata": {
        "colab": {
          "base_uri": "https://localhost:8080/"
        },
        "id": "XaVrFHwFj1ku",
        "outputId": "a12f4432-d20f-4003-a5c6-6a7ecae3c8b1"
      },
      "source": [
        "'version 5'\n",
        "\n",
        "number1 = 30\n",
        "str_list = list(str(number1))\n",
        "int_list = []\n",
        "for c in str_list:\n",
        "    int_list.append(int(c))\n",
        "for c in range(len(int_list)):\n",
        "    if len(int_list) == 3:\n",
        "        if c == 0:\n",
        "            print(f'{int_list[c]} centena{\"s\" if int_list[c] > 1 else \"\"}', end='')\n",
        "            print(f'{\" e \" if not int_list[-1] else \", \"}', end='')\n",
        "        if c == 1 and int_list[c]:\n",
        "            print(f'{int_list[c]} dezena{\"s\" if int_list[c] > 1 else \"\"} ', end='')\n",
        "        if c == 2 and int_list[c]:\n",
        "            print(f'e {int_list[c]} unidade{\"s\" if int_list[c] > 1 else \"\"}')\n",
        "    elif len(int_list) == 2:\n",
        "        if c == 0:\n",
        "            print(f'{int_list[c]} dezena{\"s\" if int_list[c] > 1 else \"\"} ', end='')\n",
        "        if c == 1 and int_list[c]:\n",
        "            print(f'e {int_list[c]} unidade{\"s\" if int_list[c] > 1 else \"\"} ')\n",
        "    else:\n",
        "        print(f'{int_list[c]} unidade{\"s\" if int_list[c] > 1 else \"\"}')\n"
      ],
      "execution_count": 5,
      "outputs": [
        {
          "output_type": "stream",
          "text": [
            "3 dezenas "
          ],
          "name": "stdout"
        }
      ]
    },
    {
      "cell_type": "code",
      "metadata": {
        "colab": {
          "base_uri": "https://localhost:8080/"
        },
        "id": "oG0-V1mxBmEQ",
        "outputId": "9889d338-a916-4e39-d957-72d5d7bd9dd3"
      },
      "source": [
        "'Version 6'\n",
        "\n",
        "def spell_it(numero: int):\n",
        "    dict = {'centenas': numero // 100, 'dezenas': numero % 100 // 10, 'unidades': numero % 10}\n",
        "    if not dict['centenas']: dict.pop(\"centenas\")\n",
        "    if not dict['dezenas']: dict.pop(\"dezenas\")\n",
        "    if not dict['unidades']: dict.pop(\"unidades\")\n",
        "    cutting_the_last_e = 1\n",
        "    for k, v in dict.items():\n",
        "        if v == 1: k = k[:-1]  # fixing the 's' issue...\n",
        "        print(f'{v} {k}', end='')\n",
        "        if k in 'centenas' and len(dict.keys()) == 3:  # fixing the comma issue...\n",
        "            print(f'{\", \"}', end='')\n",
        "        elif cutting_the_last_e  and len(dict.keys()) > 1:  # fixing the 'e' issue...\n",
        "            print(' e ', end='')\n",
        "            cutting_the_last_e -= 1\n",
        "    print('\\n')\n",
        "        \n",
        "\n",
        "if __name__ == '__main__':\n",
        "    testing_with = [326, 12, 300, 100, 320, 310, 305, 301, 101, 311, 111, 25, 20, 10, 21, 11, 1, 7, 16, 999]\n",
        "    for values in testing_with:\n",
        "        print(f'{values}', end=' - ')\n",
        "        spell_it(values)\n"
      ],
      "execution_count": 6,
      "outputs": [
        {
          "output_type": "stream",
          "text": [
            "326 - 3 centenas, 2 dezenas e 6 unidades\n",
            "\n",
            "12 - 1 dezena e 2 unidades\n",
            "\n",
            "300 - 3 centenas\n",
            "\n",
            "100 - 1 centena\n",
            "\n",
            "320 - 3 centenas e 2 dezenas\n",
            "\n",
            "310 - 3 centenas e 1 dezena\n",
            "\n",
            "305 - 3 centenas e 5 unidades\n",
            "\n",
            "301 - 3 centenas e 1 unidade\n",
            "\n",
            "101 - 1 centena e 1 unidade\n",
            "\n",
            "311 - 3 centenas, 1 dezena e 1 unidade\n",
            "\n",
            "111 - 1 centena, 1 dezena e 1 unidade\n",
            "\n",
            "25 - 2 dezenas e 5 unidades\n",
            "\n",
            "20 - 2 dezenas\n",
            "\n",
            "10 - 1 dezena\n",
            "\n",
            "21 - 2 dezenas e 1 unidade\n",
            "\n",
            "11 - 1 dezena e 1 unidade\n",
            "\n",
            "1 - 1 unidade\n",
            "\n",
            "7 - 7 unidades\n",
            "\n",
            "16 - 1 dezena e 6 unidades\n",
            "\n",
            "999 - 9 centenas, 9 dezenas e 9 unidades\n",
            "\n"
          ],
          "name": "stdout"
        }
      ]
    }
  ]
}